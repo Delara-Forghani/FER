{
  "nbformat": 4,
  "nbformat_minor": 0,
  "metadata": {
    "colab": {
      "name": "FER_Project_VGG16.ipynb",
      "provenance": [],
      "collapsed_sections": []
    },
    "kernelspec": {
      "name": "python3",
      "display_name": "Python 3"
    },
    "accelerator": "GPU"
  },
  "cells": [
    {
      "cell_type": "code",
      "metadata": {
        "id": "0o5l2ztUUOB-"
      },
      "source": [
        "import pandas as pd\r\n",
        "import numpy as np\r\n",
        "import matplotlib.pyplot as plt\r\n",
        "import os\r\n",
        "import PIL \r\n",
        "import PIL.Image\r\n",
        "import tensorflow as tf\r\n",
        "import cv2\r\n",
        "from sklearn.model_selection import train_test_split\r\n",
        "from sklearn.metrics import *\r\n",
        "from tensorflow import keras\r\n",
        "from tensorflow.keras import layers\r\n",
        "import keras\r\n",
        "from keras import Sequential\r\n",
        "from keras.engine import  Model\r\n",
        "from keras.layers import Dense, Conv2D, MaxPool2D, Dropout, BatchNormalization,Flatten\r\n",
        "from keras.callbacks import ModelCheckpoint, EarlyStopping\r\n",
        "from keras.models import load_model\r\n",
        "from keras.preprocessing.image import ImageDataGenerator\r\n",
        "from keras.utils import plot_model\r\n",
        "from skimage.transform import resize\r\n",
        "from keras.regularizers import l2\r\n",
        "import random"
      ],
      "execution_count": null,
      "outputs": []
    },
    {
      "cell_type": "markdown",
      "metadata": {
        "id": "1CTUw1ccxF1F"
      },
      "source": [
        "Mount google drive to colab"
      ]
    },
    {
      "cell_type": "code",
      "metadata": {
        "colab": {
          "base_uri": "https://localhost:8080/"
        },
        "id": "6kX5tRluZPrA",
        "outputId": "35df533d-6bf0-4855-df9b-6c85985b49cb"
      },
      "source": [
        "# Check is Link to Drive is OK\n",
        "google = !if [ -d 'GDrive/' ]; then echo \"1\" ; else echo \"0\"; fi\n",
        "if (google[0] is '0' ):\n",
        "  from google.colab import drive\n",
        "  drive.mount('/content/GDrive/')\n",
        "!if [ -d 'GDrive/' ]; then echo \"Connection to Google drive successful\" ; else echo \"Error to connect to Google drive\"; fi"
      ],
      "execution_count": null,
      "outputs": [
        {
          "output_type": "stream",
          "text": [
            "Mounted at /content/GDrive/\n",
            "Connection to Google drive successful\n"
          ],
          "name": "stdout"
        }
      ]
    },
    {
      "cell_type": "markdown",
      "metadata": {
        "id": "9XozHyhjxLH6"
      },
      "source": [
        "Dictionary introducing emotions"
      ]
    },
    {
      "cell_type": "code",
      "metadata": {
        "id": "_XTQ00A0bHyq"
      },
      "source": [
        "emotions={0:'Anger',1:'Disgust',2:'Fear',3:'Happiness',4:'Sadness',5:'Surprise',6:'Neutral'}"
      ],
      "execution_count": null,
      "outputs": []
    },
    {
      "cell_type": "code",
      "metadata": {
        "id": "-JR7HNX7luvI"
      },
      "source": [
        "file_path=\"/content/GDrive/My Drive/FER-images/fer2013.csv\""
      ],
      "execution_count": null,
      "outputs": []
    },
    {
      "cell_type": "code",
      "metadata": {
        "id": "GrRRLR_Jl2rj"
      },
      "source": [
        "data=pd.read_csv(file_path)"
      ],
      "execution_count": null,
      "outputs": []
    },
    {
      "cell_type": "code",
      "metadata": {
        "id": "7swiTXSEVVAR"
      },
      "source": [
        "data_train=data.loc[data['Usage']=='Training']\r\n",
        "public_test=data.loc[data['Usage']=='PublicTest']\r\n",
        "private_test=data.loc[data['Usage']=='PrivateTest']"
      ],
      "execution_count": null,
      "outputs": []
    },
    {
      "cell_type": "code",
      "metadata": {
        "id": "M7R9TwMKWBzX"
      },
      "source": [
        "from sklearn.utils import shuffle\r\n",
        "data_train=shuffle(data_train)\r\n",
        "public_test=shuffle(public_test)\r\n",
        "private_test=shuffle(private_test)"
      ],
      "execution_count": null,
      "outputs": []
    },
    {
      "cell_type": "code",
      "metadata": {
        "colab": {
          "base_uri": "https://localhost:8080/",
          "height": 202
        },
        "id": "eYkPrbsHUeCT",
        "outputId": "88c3798a-c77c-41ef-94b9-2c970a7b6849"
      },
      "source": [
        "data_train.head()"
      ],
      "execution_count": null,
      "outputs": [
        {
          "output_type": "execute_result",
          "data": {
            "text/html": [
              "<div>\n",
              "<style scoped>\n",
              "    .dataframe tbody tr th:only-of-type {\n",
              "        vertical-align: middle;\n",
              "    }\n",
              "\n",
              "    .dataframe tbody tr th {\n",
              "        vertical-align: top;\n",
              "    }\n",
              "\n",
              "    .dataframe thead th {\n",
              "        text-align: right;\n",
              "    }\n",
              "</style>\n",
              "<table border=\"1\" class=\"dataframe\">\n",
              "  <thead>\n",
              "    <tr style=\"text-align: right;\">\n",
              "      <th></th>\n",
              "      <th>emotion</th>\n",
              "      <th>pixels</th>\n",
              "      <th>Usage</th>\n",
              "    </tr>\n",
              "  </thead>\n",
              "  <tbody>\n",
              "    <tr>\n",
              "      <th>24058</th>\n",
              "      <td>3</td>\n",
              "      <td>113 111 128 117 85 57 61 41 53 73 62 27 23 34 ...</td>\n",
              "      <td>Training</td>\n",
              "    </tr>\n",
              "    <tr>\n",
              "      <th>18369</th>\n",
              "      <td>0</td>\n",
              "      <td>244 244 247 210 121 119 137 154 167 182 180 17...</td>\n",
              "      <td>Training</td>\n",
              "    </tr>\n",
              "    <tr>\n",
              "      <th>14556</th>\n",
              "      <td>4</td>\n",
              "      <td>70 69 62 62 67 54 36 32 45 50 46 50 54 55 54 4...</td>\n",
              "      <td>Training</td>\n",
              "    </tr>\n",
              "    <tr>\n",
              "      <th>19150</th>\n",
              "      <td>3</td>\n",
              "      <td>102 2 16 15 27 42 99 163 181 187 192 195 191 1...</td>\n",
              "      <td>Training</td>\n",
              "    </tr>\n",
              "    <tr>\n",
              "      <th>13202</th>\n",
              "      <td>5</td>\n",
              "      <td>146 195 192 169 150 162 168 210 220 210 217 15...</td>\n",
              "      <td>Training</td>\n",
              "    </tr>\n",
              "  </tbody>\n",
              "</table>\n",
              "</div>"
            ],
            "text/plain": [
              "       emotion                                             pixels     Usage\n",
              "24058        3  113 111 128 117 85 57 61 41 53 73 62 27 23 34 ...  Training\n",
              "18369        0  244 244 247 210 121 119 137 154 167 182 180 17...  Training\n",
              "14556        4  70 69 62 62 67 54 36 32 45 50 46 50 54 55 54 4...  Training\n",
              "19150        3  102 2 16 15 27 42 99 163 181 187 192 195 191 1...  Training\n",
              "13202        5  146 195 192 169 150 162 168 210 220 210 217 15...  Training"
            ]
          },
          "metadata": {
            "tags": []
          },
          "execution_count": 24
        }
      ]
    },
    {
      "cell_type": "markdown",
      "metadata": {
        "id": "C0aPMwy9xULP"
      },
      "source": [
        "Reading Train/Dev/Test sets and randomly add some horizontally flipped training inputs. "
      ]
    },
    {
      "cell_type": "code",
      "metadata": {
        "id": "QIzZ4Go1YBuW"
      },
      "source": [
        "def data_augmentation(img_data):\r\n",
        "    img_data = cv2.flip(img_data.reshape(48,48), 1)\r\n",
        "    return np.array(img_data.reshape(48,48,1)).astype(np.uint8)"
      ],
      "execution_count": null,
      "outputs": []
    },
    {
      "cell_type": "code",
      "metadata": {
        "id": "8eEt053yWkhK"
      },
      "source": [
        "def change_aug_data(dataset):\r\n",
        "  train_data_flipped=list()\r\n",
        "  train_y_flipped=list()\r\n",
        "  for i in range(0,dataset.shape[0]):\r\n",
        "    img_str=dataset.iloc[i]['pixels'].split(' ')\r\n",
        "    img_data=np.array(img_str,dtype=np.uint8).reshape(48,48)\r\n",
        "    img_flipped=data_augmentation(img_data)\r\n",
        "    train_data_flipped.append(cv2.cvtColor(img_flipped,cv2.COLOR_GRAY2BGR))\r\n",
        "    train_y_flipped.append(dataset.iloc[i]['emotion'])\r\n",
        "  return train_data_flipped,train_y_flipped\r\n",
        "\r\n",
        "def change_data(dataset):\r\n",
        "  final_data=list()  \r\n",
        "  for i in range(0,dataset.shape[0]):\r\n",
        "    img_str=dataset.iloc[i]['pixels'].split(' ')\r\n",
        "    img_data=np.array(img_str,dtype=np.uint8).reshape(48,48)\r\n",
        "    img_final=cv2.cvtColor(img_data,cv2.COLOR_GRAY2BGR)\r\n",
        "    final_data.append(img_final)\r\n",
        "  return final_data\r\n",
        "data_train_flipped,data_y_flipped=change_aug_data(data_train)\r\n",
        "pairs = list(zip(data_train_flipped, data_y_flipped))  # make pairs out of the two lists\r\n",
        "pairs = random.sample(pairs, 10000)  # pick 3 random pairs\r\n",
        "data_train_flipped_reduced,data_y_flipped_reduced = zip(*pairs)  # separate the pairs\r\n",
        "#fer_x_train=np.array(change_data(data_train))\r\n",
        "fer_x_train=np.array(change_data(data_train) + list(data_train_flipped_reduced))    \r\n",
        "fer_x_test=np.array(change_data(private_test))\r\n",
        "fer_x_valid=np.array(change_data(public_test))"
      ],
      "execution_count": null,
      "outputs": []
    },
    {
      "cell_type": "code",
      "metadata": {
        "colab": {
          "base_uri": "https://localhost:8080/"
        },
        "id": "TDYEKkm-XOxj",
        "outputId": "a4435985-43db-4598-e96e-3f6264aef5da"
      },
      "source": [
        "np.array(data_y_flipped_reduced).shape\r\n",
        "print(np.array(data_y_flipped_reduced))"
      ],
      "execution_count": null,
      "outputs": [
        {
          "output_type": "stream",
          "text": [
            "[2 3 6 ... 6 4 6]\n"
          ],
          "name": "stdout"
        }
      ]
    },
    {
      "cell_type": "code",
      "metadata": {
        "colab": {
          "base_uri": "https://localhost:8080/"
        },
        "id": "36MQxRHeM0Rj",
        "outputId": "02ffff8d-02e0-4be7-eafc-3c1f9b4b2888"
      },
      "source": [
        "print(fer_x_train.shape)\r\n",
        "print(fer_x_test.shape)\r\n",
        "print(fer_x_valid.shape)"
      ],
      "execution_count": null,
      "outputs": [
        {
          "output_type": "stream",
          "text": [
            "(38709, 48, 48, 3)\n",
            "(3589, 48, 48, 3)\n",
            "(3589, 48, 48, 3)\n"
          ],
          "name": "stdout"
        }
      ]
    },
    {
      "cell_type": "code",
      "metadata": {
        "colab": {
          "base_uri": "https://localhost:8080/",
          "height": 285
        },
        "id": "2SWuRGKMLu9W",
        "outputId": "199f3a74-d80c-4662-f71c-e9743d863ab6"
      },
      "source": [
        "import matplotlib.pyplot as plt\r\n",
        "plt.imshow((np.array(data_train_flipped_reduced)[20]))\r\n",
        "print(emotions[np.array(data_y_flipped_reduced)[20]])"
      ],
      "execution_count": null,
      "outputs": [
        {
          "output_type": "stream",
          "text": [
            "Happiness\n"
          ],
          "name": "stdout"
        },
        {
          "output_type": "display_data",
          "data": {
            "image/png": "[encoded data removed]",
            "text/plain": [
              "<Figure size 432x288 with 1 Axes>"
            ]
          },
          "metadata": {
            "tags": [],
            "needs_background": "light"
          }
        }
      ]
    },
    {
      "cell_type": "markdown",
      "metadata": {
        "id": "prZz3PGexpCD"
      },
      "source": [
        "Normalizing images by dividing by 255"
      ]
    },
    {
      "cell_type": "code",
      "metadata": {
        "id": "IEILdQBcmEsB"
      },
      "source": [
        "fer_x_train = fer_x_train/255\r\n",
        "fer_x_test = fer_x_test/255\r\n",
        "fer_x_valid = fer_x_valid/255"
      ],
      "execution_count": null,
      "outputs": []
    },
    {
      "cell_type": "code",
      "metadata": {
        "id": "_FafMstsn05c"
      },
      "source": [
        "#fer_y_train=np.array(data_train['emotion'])\r\n",
        "fer_y_train=np.concatenate((np.array(data_train['emotion']),np.array(data_y_flipped_reduced)),axis=0)\r\n",
        "fer_y_test=np.array(private_test['emotion'])\r\n",
        "fer_y_valid=np.array(public_test['emotion'])"
      ],
      "execution_count": null,
      "outputs": []
    },
    {
      "cell_type": "code",
      "metadata": {
        "colab": {
          "base_uri": "https://localhost:8080/"
        },
        "id": "zxDudZKDrYhf",
        "outputId": "b5e0254a-195b-451f-adc0-f94a20c03b25"
      },
      "source": [
        "fer_y_train.shape"
      ],
      "execution_count": null,
      "outputs": [
        {
          "output_type": "execute_result",
          "data": {
            "text/plain": [
              "(38709,)"
            ]
          },
          "metadata": {
            "tags": []
          },
          "execution_count": 65
        }
      ]
    },
    {
      "cell_type": "code",
      "metadata": {
        "colab": {
          "base_uri": "https://localhost:8080/",
          "height": 285
        },
        "id": "WqWun537Yj3G",
        "outputId": "281c4094-6765-487b-9bba-09760843a9db"
      },
      "source": [
        "import matplotlib.pyplot as plt\r\n",
        "plt.imshow(fer_x_train[37706])\r\n",
        "print(emotions[fer_y_train[37706]])"
      ],
      "execution_count": null,
      "outputs": [
        {
          "output_type": "stream",
          "text": [
            "Surprise\n"
          ],
          "name": "stdout"
        },
        {
          "output_type": "display_data",
          "data": {
            "image/png": "[encoded data removed]",
            "text/plain": [
              "<Figure size 432x288 with 1 Axes>"
            ]
          },
          "metadata": {
            "tags": [],
            "needs_background": "light"
          }
        }
      ]
    },
    {
      "cell_type": "markdown",
      "metadata": {
        "id": "I3VRtya0x1m-"
      },
      "source": [
        "Onehot Encoding"
      ]
    },
    {
      "cell_type": "code",
      "metadata": {
        "id": "4uoVNH-oobQI"
      },
      "source": [
        "def onehot(Y, C):\r\n",
        "  Y = np.eye(C)[Y].T\r\n",
        "  return Y"
      ],
      "execution_count": null,
      "outputs": []
    },
    {
      "cell_type": "code",
      "metadata": {
        "id": "GLLBXBnPp2PK"
      },
      "source": [
        "fer_y_train = onehot(fer_y_train, 7).T\r\n",
        "fer_y_test = onehot(fer_y_test, 7).T\r\n",
        "fer_y_valid = onehot(fer_y_valid, 7).T"
      ],
      "execution_count": null,
      "outputs": []
    },
    {
      "cell_type": "code",
      "metadata": {
        "colab": {
          "base_uri": "https://localhost:8080/"
        },
        "id": "395OQTQ9spbt",
        "outputId": "f6eded09-ae65-4157-f6cb-f6ff17507bc0"
      },
      "source": [
        "fer_y_train.shape"
      ],
      "execution_count": null,
      "outputs": [
        {
          "output_type": "execute_result",
          "data": {
            "text/plain": [
              "(38709, 7)"
            ]
          },
          "metadata": {
            "tags": []
          },
          "execution_count": 68
        }
      ]
    },
    {
      "cell_type": "markdown",
      "metadata": {
        "id": "y9-Mly1hx7K7"
      },
      "source": [
        "Shuffing train set"
      ]
    },
    {
      "cell_type": "code",
      "metadata": {
        "id": "9GIUK-5p4G64"
      },
      "source": [
        "#from random import shuffle\r\n",
        "fer_x_train, fer_y_train = shuffle(fer_x_train, fer_y_train, random_state=2)"
      ],
      "execution_count": null,
      "outputs": []
    },
    {
      "cell_type": "markdown",
      "metadata": {
        "id": "XhNyV5SWx96L"
      },
      "source": [
        "Defining VGG16 model for transfer learning. First 11 layers are freezed and the paramters in the next layers will be changed due to fine tuning. "
      ]
    },
    {
      "cell_type": "code",
      "metadata": {
        "id": "VhvO_TX24Pt6"
      },
      "source": [
        "from keras.applications import VGG16\r\n",
        "from keras.models import Model\r\n",
        "from keras.optimizers import Adam, Adamax\r\n",
        "from keras.callbacks import ModelCheckpoint, EarlyStopping"
      ],
      "execution_count": null,
      "outputs": []
    },
    {
      "cell_type": "code",
      "metadata": {
        "id": "LKTTMv4x4ps7",
        "colab": {
          "base_uri": "https://localhost:8080/"
        },
        "outputId": "c5da02b9-6955-42db-ea4d-c0f66c4da1fd"
      },
      "source": [
        "vgg=VGG16(weights='imagenet',include_top=False,input_shape=(48,48,3))\r\n",
        "layer=Flatten()(vgg.output)\r\n",
        "layer=Dense(512,activation='relu')(layer)\r\n",
        "layer=Dropout(0.1)(layer)\r\n",
        "layer=Dense(256,activation='relu')(layer)\r\n",
        "layer=Dropout(0.2)(layer)\r\n",
        "layer=Dense(128,activation='relu')(layer)\r\n",
        "layer=Dense(64,activation='relu')(layer)\r\n",
        "\r\n",
        "for i in range(11):\r\n",
        "    vgg.layers[i].trainable = False\r\n",
        "\r\n",
        "pred=Dense(7,activation='softmax')(layer)\r\n",
        "\r\n",
        "print(vgg.get_layer('block4_conv1').trainable)\r\n",
        "vgg_model = Model(inputs=vgg.input, outputs=pred)"
      ],
      "execution_count": null,
      "outputs": [
        {
          "output_type": "stream",
          "text": [
            "True\n"
          ],
          "name": "stdout"
        }
      ]
    },
    {
      "cell_type": "code",
      "metadata": {
        "colab": {
          "base_uri": "https://localhost:8080/"
        },
        "id": "kYeydme14t2D",
        "outputId": "03ecef65-58c0-4f35-fe25-954d3d36dc90"
      },
      "source": [
        "vgg_model.summary()"
      ],
      "execution_count": null,
      "outputs": [
        {
          "output_type": "stream",
          "text": [
            "Model: \"model_1\"\n",
            "_________________________________________________________________\n",
            "Layer (type)                 Output Shape              Param #   \n",
            "=================================================================\n",
            "input_3 (InputLayer)         [(None, 48, 48, 3)]       0         \n",
            "_________________________________________________________________\n",
            "block1_conv1 (Conv2D)        (None, 48, 48, 64)        1792      \n",
            "_________________________________________________________________\n",
            "block1_conv2 (Conv2D)        (None, 48, 48, 64)        36928     \n",
            "_________________________________________________________________\n",
            "block1_pool (MaxPooling2D)   (None, 24, 24, 64)        0         \n",
            "_________________________________________________________________\n",
            "block2_conv1 (Conv2D)        (None, 24, 24, 128)       73856     \n",
            "_________________________________________________________________\n",
            "block2_conv2 (Conv2D)        (None, 24, 24, 128)       147584    \n",
            "_________________________________________________________________\n",
            "block2_pool (MaxPooling2D)   (None, 12, 12, 128)       0         \n",
            "_________________________________________________________________\n",
            "block3_conv1 (Conv2D)        (None, 12, 12, 256)       295168    \n",
            "_________________________________________________________________\n",
            "block3_conv2 (Conv2D)        (None, 12, 12, 256)       590080    \n",
            "_________________________________________________________________\n",
            "block3_conv3 (Conv2D)        (None, 12, 12, 256)       590080    \n",
            "_________________________________________________________________\n",
            "block3_pool (MaxPooling2D)   (None, 6, 6, 256)         0         \n",
            "_________________________________________________________________\n",
            "block4_conv1 (Conv2D)        (None, 6, 6, 512)         1180160   \n",
            "_________________________________________________________________\n",
            "block4_conv2 (Conv2D)        (None, 6, 6, 512)         2359808   \n",
            "_________________________________________________________________\n",
            "block4_conv3 (Conv2D)        (None, 6, 6, 512)         2359808   \n",
            "_________________________________________________________________\n",
            "block4_pool (MaxPooling2D)   (None, 3, 3, 512)         0         \n",
            "_________________________________________________________________\n",
            "block5_conv1 (Conv2D)        (None, 3, 3, 512)         2359808   \n",
            "_________________________________________________________________\n",
            "block5_conv2 (Conv2D)        (None, 3, 3, 512)         2359808   \n",
            "_________________________________________________________________\n",
            "block5_conv3 (Conv2D)        (None, 3, 3, 512)         2359808   \n",
            "_________________________________________________________________\n",
            "block5_pool (MaxPooling2D)   (None, 1, 1, 512)         0         \n",
            "_________________________________________________________________\n",
            "flatten_2 (Flatten)          (None, 512)               0         \n",
            "_________________________________________________________________\n",
            "dense_10 (Dense)             (None, 512)               262656    \n",
            "_________________________________________________________________\n",
            "dropout_8 (Dropout)          (None, 512)               0         \n",
            "_________________________________________________________________\n",
            "dense_11 (Dense)             (None, 256)               131328    \n",
            "_________________________________________________________________\n",
            "dropout_9 (Dropout)          (None, 256)               0         \n",
            "_________________________________________________________________\n",
            "dense_12 (Dense)             (None, 128)               32896     \n",
            "_________________________________________________________________\n",
            "dense_13 (Dense)             (None, 64)                8256      \n",
            "_________________________________________________________________\n",
            "dense_14 (Dense)             (None, 7)                 455       \n",
            "=================================================================\n",
            "Total params: 15,150,279\n",
            "Trainable params: 13,414,791\n",
            "Non-trainable params: 1,735,488\n",
            "_________________________________________________________________\n"
          ],
          "name": "stdout"
        }
      ]
    },
    {
      "cell_type": "code",
      "metadata": {
        "id": "995XyNuU42cR"
      },
      "source": [
        "vgg_model.compile(loss='categorical_crossentropy',optimizer=Adamax(),metrics=['accuracy']) #Adamax()"
      ],
      "execution_count": null,
      "outputs": []
    },
    {
      "cell_type": "markdown",
      "metadata": {
        "id": "N7lYnvHAW2jV"
      },
      "source": [
        "FER-2013 check "
      ]
    },
    {
      "cell_type": "code",
      "metadata": {
        "id": "WeHDM5ojvDLW"
      },
      "source": [
        "vgg_model.load_weights('/content/GDrive/My Drive/vgg_freeze_animated_model_weights.h5')"
      ],
      "execution_count": null,
      "outputs": []
    },
    {
      "cell_type": "code",
      "metadata": {
        "colab": {
          "base_uri": "https://localhost:8080/"
        },
        "id": "ei9ERFu_44HX",
        "outputId": "8ae91d93-c01a-4abd-dc3e-6b2ebf32a86a"
      },
      "source": [
        "history=vgg_model.fit(fer_x_train,fer_y_train,\r\n",
        "          batch_size=128,\r\n",
        "          epochs=100,\r\n",
        "          verbose=1,\r\n",
        "          validation_data=(fer_x_valid, fer_y_valid),\r\n",
        "          shuffle=True)"
      ],
      "execution_count": null,
      "outputs": [
        {
          "output_type": "stream",
          "text": [
            "Epoch 1/100\n",
            "303/303 [==============================] - 20s 63ms/step - loss: 1.7292 - accuracy: 0.2888 - val_loss: 1.4164 - val_accuracy: 0.4639\n",
            "Epoch 2/100\n",
            "303/303 [==============================] - 19s 63ms/step - loss: 1.3422 - accuracy: 0.4757 - val_loss: 1.2397 - val_accuracy: 0.5266\n",
            "Epoch 3/100\n",
            "303/303 [==============================] - 19s 63ms/step - loss: 1.2160 - accuracy: 0.5362 - val_loss: 1.1720 - val_accuracy: 0.5534\n",
            "Epoch 4/100\n",
            "303/303 [==============================] - 19s 62ms/step - loss: 1.0861 - accuracy: 0.5930 - val_loss: 1.1598 - val_accuracy: 0.5659\n",
            "Epoch 5/100\n",
            "303/303 [==============================] - 19s 63ms/step - loss: 0.9729 - accuracy: 0.6407 - val_loss: 1.1236 - val_accuracy: 0.5840\n",
            "Epoch 6/100\n",
            "303/303 [==============================] - 19s 63ms/step - loss: 0.8505 - accuracy: 0.6876 - val_loss: 1.1376 - val_accuracy: 0.5988\n",
            "Epoch 7/100\n",
            "303/303 [==============================] - 19s 63ms/step - loss: 0.7188 - accuracy: 0.7445 - val_loss: 1.1208 - val_accuracy: 0.6094\n",
            "Epoch 8/100\n",
            "303/303 [==============================] - 19s 63ms/step - loss: 0.5854 - accuracy: 0.7946 - val_loss: 1.1963 - val_accuracy: 0.6216\n",
            "Epoch 9/100\n",
            "303/303 [==============================] - 19s 63ms/step - loss: 0.4522 - accuracy: 0.8455 - val_loss: 1.3358 - val_accuracy: 0.6127\n",
            "Epoch 10/100\n",
            "303/303 [==============================] - 19s 63ms/step - loss: 0.3529 - accuracy: 0.8808 - val_loss: 1.4137 - val_accuracy: 0.6208\n",
            "Epoch 11/100\n",
            "303/303 [==============================] - 19s 63ms/step - loss: 0.2588 - accuracy: 0.9135 - val_loss: 1.5122 - val_accuracy: 0.6258\n",
            "Epoch 12/100\n",
            "303/303 [==============================] - 19s 63ms/step - loss: 0.2051 - accuracy: 0.9326 - val_loss: 1.6312 - val_accuracy: 0.6241\n",
            "Epoch 13/100\n",
            "303/303 [==============================] - 19s 63ms/step - loss: 0.1677 - accuracy: 0.9443 - val_loss: 1.6715 - val_accuracy: 0.6149\n",
            "Epoch 14/100\n",
            "303/303 [==============================] - 19s 63ms/step - loss: 0.1358 - accuracy: 0.9573 - val_loss: 1.8679 - val_accuracy: 0.6344\n",
            "Epoch 15/100\n",
            "303/303 [==============================] - 19s 63ms/step - loss: 0.1131 - accuracy: 0.9645 - val_loss: 1.8988 - val_accuracy: 0.6227\n",
            "Epoch 16/100\n",
            "303/303 [==============================] - 19s 64ms/step - loss: 0.0974 - accuracy: 0.9672 - val_loss: 2.2259 - val_accuracy: 0.6177\n",
            "Epoch 17/100\n",
            "303/303 [==============================] - 19s 63ms/step - loss: 0.0904 - accuracy: 0.9712 - val_loss: 1.9040 - val_accuracy: 0.6219\n",
            "Epoch 18/100\n",
            "303/303 [==============================] - 19s 63ms/step - loss: 0.0821 - accuracy: 0.9730 - val_loss: 1.9124 - val_accuracy: 0.6261\n",
            "Epoch 19/100\n",
            "303/303 [==============================] - 19s 63ms/step - loss: 0.0651 - accuracy: 0.9791 - val_loss: 2.1522 - val_accuracy: 0.6297\n",
            "Epoch 20/100\n",
            "303/303 [==============================] - 19s 63ms/step - loss: 0.0672 - accuracy: 0.9775 - val_loss: 2.1282 - val_accuracy: 0.6475\n",
            "Epoch 21/100\n",
            "303/303 [==============================] - 19s 63ms/step - loss: 0.0633 - accuracy: 0.9799 - val_loss: 2.2469 - val_accuracy: 0.6330\n",
            "Epoch 22/100\n",
            "303/303 [==============================] - 19s 63ms/step - loss: 0.0561 - accuracy: 0.9807 - val_loss: 2.0947 - val_accuracy: 0.6403\n",
            "Epoch 23/100\n",
            "303/303 [==============================] - 19s 63ms/step - loss: 0.0485 - accuracy: 0.9832 - val_loss: 2.2538 - val_accuracy: 0.6342\n",
            "Epoch 24/100\n",
            "303/303 [==============================] - 19s 63ms/step - loss: 0.0510 - accuracy: 0.9840 - val_loss: 2.2536 - val_accuracy: 0.6395\n",
            "Epoch 25/100\n",
            "303/303 [==============================] - 19s 63ms/step - loss: 0.0453 - accuracy: 0.9846 - val_loss: 2.6477 - val_accuracy: 0.6322\n",
            "Epoch 26/100\n",
            "303/303 [==============================] - 19s 63ms/step - loss: 0.0450 - accuracy: 0.9842 - val_loss: 2.2922 - val_accuracy: 0.6389\n",
            "Epoch 27/100\n",
            "303/303 [==============================] - 19s 63ms/step - loss: 0.0325 - accuracy: 0.9901 - val_loss: 2.2830 - val_accuracy: 0.6411\n",
            "Epoch 28/100\n",
            "303/303 [==============================] - 19s 63ms/step - loss: 0.0367 - accuracy: 0.9885 - val_loss: 2.3484 - val_accuracy: 0.6417\n",
            "Epoch 29/100\n",
            "303/303 [==============================] - 19s 63ms/step - loss: 0.0415 - accuracy: 0.9866 - val_loss: 2.3970 - val_accuracy: 0.6392\n",
            "Epoch 30/100\n",
            "303/303 [==============================] - 19s 63ms/step - loss: 0.0297 - accuracy: 0.9902 - val_loss: 2.3718 - val_accuracy: 0.6333\n",
            "Epoch 31/100\n",
            "303/303 [==============================] - 19s 63ms/step - loss: 0.0347 - accuracy: 0.9874 - val_loss: 2.4949 - val_accuracy: 0.6400\n",
            "Epoch 32/100\n",
            "303/303 [==============================] - 19s 63ms/step - loss: 0.0334 - accuracy: 0.9885 - val_loss: 2.5789 - val_accuracy: 0.6506\n",
            "Epoch 33/100\n",
            "303/303 [==============================] - 19s 63ms/step - loss: 0.0317 - accuracy: 0.9890 - val_loss: 2.3837 - val_accuracy: 0.6322\n",
            "Epoch 34/100\n",
            "303/303 [==============================] - 19s 63ms/step - loss: 0.0332 - accuracy: 0.9894 - val_loss: 2.4524 - val_accuracy: 0.6392\n",
            "Epoch 35/100\n",
            "303/303 [==============================] - 19s 63ms/step - loss: 0.0288 - accuracy: 0.9895 - val_loss: 2.6283 - val_accuracy: 0.6261\n",
            "Epoch 36/100\n",
            "303/303 [==============================] - 19s 63ms/step - loss: 0.0305 - accuracy: 0.9891 - val_loss: 2.4735 - val_accuracy: 0.6297\n",
            "Epoch 37/100\n",
            "303/303 [==============================] - 19s 64ms/step - loss: 0.0267 - accuracy: 0.9904 - val_loss: 2.4656 - val_accuracy: 0.6459\n",
            "Epoch 38/100\n",
            "303/303 [==============================] - 19s 63ms/step - loss: 0.0255 - accuracy: 0.9908 - val_loss: 2.7143 - val_accuracy: 0.6420\n",
            "Epoch 39/100\n",
            "303/303 [==============================] - 19s 63ms/step - loss: 0.0283 - accuracy: 0.9901 - val_loss: 2.7370 - val_accuracy: 0.6294\n",
            "Epoch 40/100\n",
            "303/303 [==============================] - 19s 63ms/step - loss: 0.0337 - accuracy: 0.9883 - val_loss: 2.6549 - val_accuracy: 0.6473\n",
            "Epoch 41/100\n",
            "303/303 [==============================] - 19s 63ms/step - loss: 0.0316 - accuracy: 0.9895 - val_loss: 2.7254 - val_accuracy: 0.6353\n",
            "Epoch 42/100\n",
            "303/303 [==============================] - 19s 63ms/step - loss: 0.0299 - accuracy: 0.9899 - val_loss: 2.6462 - val_accuracy: 0.6428\n",
            "Epoch 43/100\n",
            "303/303 [==============================] - 19s 63ms/step - loss: 0.0271 - accuracy: 0.9900 - val_loss: 2.3850 - val_accuracy: 0.6353\n",
            "Epoch 44/100\n",
            "303/303 [==============================] - 19s 63ms/step - loss: 0.0184 - accuracy: 0.9931 - val_loss: 2.7901 - val_accuracy: 0.6278\n",
            "Epoch 45/100\n",
            "303/303 [==============================] - 19s 63ms/step - loss: 0.0304 - accuracy: 0.9905 - val_loss: 2.5420 - val_accuracy: 0.6325\n",
            "Epoch 46/100\n",
            "303/303 [==============================] - 19s 63ms/step - loss: 0.0245 - accuracy: 0.9909 - val_loss: 2.5653 - val_accuracy: 0.6239\n",
            "Epoch 47/100\n",
            "303/303 [==============================] - 19s 63ms/step - loss: 0.0296 - accuracy: 0.9891 - val_loss: 2.7612 - val_accuracy: 0.6389\n",
            "Epoch 48/100\n",
            "303/303 [==============================] - 19s 63ms/step - loss: 0.0265 - accuracy: 0.9908 - val_loss: 2.6674 - val_accuracy: 0.6364\n",
            "Epoch 49/100\n",
            "303/303 [==============================] - 19s 63ms/step - loss: 0.0229 - accuracy: 0.9914 - val_loss: 2.4387 - val_accuracy: 0.6378\n",
            "Epoch 50/100\n",
            "303/303 [==============================] - 19s 63ms/step - loss: 0.0178 - accuracy: 0.9935 - val_loss: 2.6602 - val_accuracy: 0.6347\n",
            "Epoch 51/100\n",
            "303/303 [==============================] - 19s 63ms/step - loss: 0.0267 - accuracy: 0.9904 - val_loss: 2.6874 - val_accuracy: 0.6381\n",
            "Epoch 52/100\n",
            "303/303 [==============================] - 19s 63ms/step - loss: 0.0208 - accuracy: 0.9928 - val_loss: 2.5758 - val_accuracy: 0.6375\n",
            "Epoch 53/100\n",
            "303/303 [==============================] - 19s 63ms/step - loss: 0.0218 - accuracy: 0.9919 - val_loss: 2.4169 - val_accuracy: 0.6319\n",
            "Epoch 54/100\n",
            "303/303 [==============================] - 19s 63ms/step - loss: 0.0213 - accuracy: 0.9921 - val_loss: 2.5866 - val_accuracy: 0.6303\n",
            "Epoch 55/100\n",
            "303/303 [==============================] - 19s 63ms/step - loss: 0.0216 - accuracy: 0.9921 - val_loss: 2.7513 - val_accuracy: 0.6333\n",
            "Epoch 56/100\n",
            "303/303 [==============================] - 19s 63ms/step - loss: 0.0236 - accuracy: 0.9916 - val_loss: 2.7326 - val_accuracy: 0.6381\n",
            "Epoch 57/100\n",
            "303/303 [==============================] - 19s 63ms/step - loss: 0.0177 - accuracy: 0.9936 - val_loss: 2.6240 - val_accuracy: 0.6447\n",
            "Epoch 58/100\n",
            "303/303 [==============================] - 19s 63ms/step - loss: 0.0154 - accuracy: 0.9940 - val_loss: 2.5220 - val_accuracy: 0.6417\n",
            "Epoch 59/100\n",
            "303/303 [==============================] - 19s 63ms/step - loss: 0.0187 - accuracy: 0.9935 - val_loss: 2.6488 - val_accuracy: 0.6528\n",
            "Epoch 60/100\n",
            "303/303 [==============================] - 19s 63ms/step - loss: 0.0175 - accuracy: 0.9935 - val_loss: 2.7301 - val_accuracy: 0.6339\n",
            "Epoch 61/100\n",
            "303/303 [==============================] - 19s 63ms/step - loss: 0.0190 - accuracy: 0.9928 - val_loss: 2.7889 - val_accuracy: 0.6439\n",
            "Epoch 62/100\n",
            "303/303 [==============================] - 19s 63ms/step - loss: 0.0235 - accuracy: 0.9919 - val_loss: 2.8872 - val_accuracy: 0.6403\n",
            "Epoch 63/100\n",
            "303/303 [==============================] - 19s 63ms/step - loss: 0.0108 - accuracy: 0.9951 - val_loss: 2.9729 - val_accuracy: 0.6383\n",
            "Epoch 64/100\n",
            "303/303 [==============================] - 19s 63ms/step - loss: 0.0181 - accuracy: 0.9934 - val_loss: 2.5302 - val_accuracy: 0.6422\n",
            "Epoch 65/100\n",
            "303/303 [==============================] - 19s 63ms/step - loss: 0.0146 - accuracy: 0.9936 - val_loss: 2.9893 - val_accuracy: 0.6389\n",
            "Epoch 66/100\n",
            "303/303 [==============================] - 19s 63ms/step - loss: 0.0239 - accuracy: 0.9909 - val_loss: 2.9149 - val_accuracy: 0.6386\n",
            "Epoch 67/100\n",
            "303/303 [==============================] - 19s 63ms/step - loss: 0.0159 - accuracy: 0.9940 - val_loss: 2.6744 - val_accuracy: 0.6386\n",
            "Epoch 68/100\n",
            "303/303 [==============================] - 19s 63ms/step - loss: 0.0144 - accuracy: 0.9949 - val_loss: 2.9692 - val_accuracy: 0.6375\n",
            "Epoch 69/100\n",
            "303/303 [==============================] - 19s 63ms/step - loss: 0.0149 - accuracy: 0.9942 - val_loss: 2.7594 - val_accuracy: 0.6397\n",
            "Epoch 70/100\n",
            "303/303 [==============================] - 19s 63ms/step - loss: 0.0166 - accuracy: 0.9932 - val_loss: 2.8715 - val_accuracy: 0.6375\n",
            "Epoch 71/100\n",
            "303/303 [==============================] - 19s 64ms/step - loss: 0.0199 - accuracy: 0.9927 - val_loss: 2.9549 - val_accuracy: 0.6403\n",
            "Epoch 72/100\n",
            "303/303 [==============================] - 19s 63ms/step - loss: 0.0179 - accuracy: 0.9938 - val_loss: 3.1231 - val_accuracy: 0.6361\n",
            "Epoch 73/100\n",
            "303/303 [==============================] - 19s 63ms/step - loss: 0.0125 - accuracy: 0.9960 - val_loss: 2.7341 - val_accuracy: 0.6434\n",
            "Epoch 74/100\n",
            "303/303 [==============================] - 19s 63ms/step - loss: 0.0195 - accuracy: 0.9929 - val_loss: 2.9680 - val_accuracy: 0.6336\n",
            "Epoch 75/100\n",
            "303/303 [==============================] - 19s 63ms/step - loss: 0.0159 - accuracy: 0.9939 - val_loss: 2.5030 - val_accuracy: 0.6389\n",
            "Epoch 76/100\n",
            "303/303 [==============================] - 19s 63ms/step - loss: 0.0130 - accuracy: 0.9945 - val_loss: 3.3712 - val_accuracy: 0.6392\n",
            "Epoch 77/100\n",
            "303/303 [==============================] - 19s 63ms/step - loss: 0.0198 - accuracy: 0.9924 - val_loss: 3.0192 - val_accuracy: 0.6411\n",
            "Epoch 78/100\n",
            "303/303 [==============================] - 19s 63ms/step - loss: 0.0148 - accuracy: 0.9946 - val_loss: 2.8546 - val_accuracy: 0.6447\n",
            "Epoch 79/100\n",
            "303/303 [==============================] - 19s 63ms/step - loss: 0.0106 - accuracy: 0.9957 - val_loss: 2.8300 - val_accuracy: 0.6328\n",
            "Epoch 80/100\n",
            "303/303 [==============================] - 19s 63ms/step - loss: 0.0197 - accuracy: 0.9931 - val_loss: 3.0342 - val_accuracy: 0.6459\n",
            "Epoch 81/100\n",
            "303/303 [==============================] - 19s 63ms/step - loss: 0.0147 - accuracy: 0.9951 - val_loss: 2.7379 - val_accuracy: 0.6336\n",
            "Epoch 82/100\n",
            "303/303 [==============================] - 19s 63ms/step - loss: 0.0183 - accuracy: 0.9928 - val_loss: 2.7149 - val_accuracy: 0.6425\n",
            "Epoch 83/100\n",
            "303/303 [==============================] - 19s 64ms/step - loss: 0.0139 - accuracy: 0.9943 - val_loss: 3.0822 - val_accuracy: 0.6356\n",
            "Epoch 84/100\n",
            "303/303 [==============================] - 19s 64ms/step - loss: 0.0171 - accuracy: 0.9942 - val_loss: 2.8611 - val_accuracy: 0.6308\n",
            "Epoch 85/100\n",
            "303/303 [==============================] - 19s 64ms/step - loss: 0.0136 - accuracy: 0.9949 - val_loss: 3.0739 - val_accuracy: 0.6414\n",
            "Epoch 86/100\n",
            "303/303 [==============================] - 19s 63ms/step - loss: 0.0138 - accuracy: 0.9944 - val_loss: 3.0566 - val_accuracy: 0.6386\n",
            "Epoch 87/100\n",
            "303/303 [==============================] - 19s 63ms/step - loss: 0.0162 - accuracy: 0.9940 - val_loss: 3.0781 - val_accuracy: 0.6369\n",
            "Epoch 88/100\n",
            "303/303 [==============================] - 19s 63ms/step - loss: 0.0141 - accuracy: 0.9942 - val_loss: 2.8552 - val_accuracy: 0.6406\n",
            "Epoch 89/100\n",
            "303/303 [==============================] - 19s 63ms/step - loss: 0.0162 - accuracy: 0.9944 - val_loss: 2.7856 - val_accuracy: 0.6553\n",
            "Epoch 90/100\n",
            "303/303 [==============================] - 19s 63ms/step - loss: 0.0136 - accuracy: 0.9948 - val_loss: 3.2100 - val_accuracy: 0.6372\n",
            "Epoch 91/100\n",
            "303/303 [==============================] - 19s 63ms/step - loss: 0.0138 - accuracy: 0.9953 - val_loss: 3.5099 - val_accuracy: 0.6411\n",
            "Epoch 92/100\n",
            "303/303 [==============================] - 19s 63ms/step - loss: 0.0207 - accuracy: 0.9931 - val_loss: 3.1022 - val_accuracy: 0.6383\n",
            "Epoch 93/100\n",
            "303/303 [==============================] - 19s 63ms/step - loss: 0.0121 - accuracy: 0.9959 - val_loss: 2.8281 - val_accuracy: 0.6403\n",
            "Epoch 94/100\n",
            "303/303 [==============================] - 19s 63ms/step - loss: 0.0147 - accuracy: 0.9942 - val_loss: 2.7140 - val_accuracy: 0.6408\n",
            "Epoch 95/100\n",
            "303/303 [==============================] - 19s 63ms/step - loss: 0.0142 - accuracy: 0.9951 - val_loss: 3.0835 - val_accuracy: 0.6425\n",
            "Epoch 96/100\n",
            "303/303 [==============================] - 19s 63ms/step - loss: 0.0075 - accuracy: 0.9966 - val_loss: 2.9133 - val_accuracy: 0.6395\n",
            "Epoch 97/100\n",
            "303/303 [==============================] - 19s 63ms/step - loss: 0.0108 - accuracy: 0.9956 - val_loss: 2.9236 - val_accuracy: 0.6383\n",
            "Epoch 98/100\n",
            "303/303 [==============================] - 19s 63ms/step - loss: 0.0147 - accuracy: 0.9945 - val_loss: 2.9238 - val_accuracy: 0.6375\n",
            "Epoch 99/100\n",
            "303/303 [==============================] - 19s 63ms/step - loss: 0.0152 - accuracy: 0.9950 - val_loss: 2.9184 - val_accuracy: 0.6314\n",
            "Epoch 100/100\n",
            "303/303 [==============================] - 19s 63ms/step - loss: 0.0118 - accuracy: 0.9958 - val_loss: 2.6780 - val_accuracy: 0.6372\n"
          ],
          "name": "stdout"
        }
      ]
    },
    {
      "cell_type": "code",
      "metadata": {
        "colab": {
          "base_uri": "https://localhost:8080/"
        },
        "id": "_AkcjTqDNV0S",
        "outputId": "6c8367b8-d8ce-4177-bbc9-8c184969d1e2"
      },
      "source": [
        "vgg_model.evaluate(fer_x_test, fer_y_test)"
      ],
      "execution_count": null,
      "outputs": [
        {
          "output_type": "stream",
          "text": [
            "113/113 [==============================] - 1s 12ms/step - loss: 2.4865 - accuracy: 0.6475\n"
          ],
          "name": "stdout"
        },
        {
          "output_type": "execute_result",
          "data": {
            "text/plain": [
              "[2.4865269660949707, 0.6475341320037842]"
            ]
          },
          "metadata": {
            "tags": []
          },
          "execution_count": 91
        }
      ]
    },
    {
      "cell_type": "code",
      "metadata": {
        "id": "jyL9zaXlOE49"
      },
      "source": [
        "vgg_model.save('/content/GDrive/My Drive/FER_aug_vgg16_freeze.h5')"
      ],
      "execution_count": null,
      "outputs": []
    },
    {
      "cell_type": "code",
      "metadata": {
        "id": "SgSXnJRsi2rE"
      },
      "source": [
        "vgg_model.save_weights('/content/GDrive/My Drive/FER_vgg16_freeze_weights.h5')"
      ],
      "execution_count": null,
      "outputs": []
    },
    {
      "cell_type": "markdown",
      "metadata": {
        "id": "MY4wXKlOXBBs"
      },
      "source": [
        "Animated_images"
      ]
    },
    {
      "cell_type": "code",
      "metadata": {
        "id": "gTkl3IbqZmi5"
      },
      "source": [
        "animate_emotions={0:'anger',1:'disgust',2:'fear',3:'joy',4:'sadness',5:'surprise',6:'neutral'}"
      ],
      "execution_count": null,
      "outputs": []
    },
    {
      "cell_type": "code",
      "metadata": {
        "id": "frveKiAqXUeD"
      },
      "source": [
        "! rm -rf animated_images; mkdir animated_images\r\n",
        "! unzip -q '/content/GDrive/My Drive/FER-images/all_animated_images.zip' -d animated_images"
      ],
      "execution_count": null,
      "outputs": []
    },
    {
      "cell_type": "markdown",
      "metadata": {
        "id": "teMuwq5B0pC0"
      },
      "source": [
        "Pandas dateframes for keeping information of the animated images."
      ]
    },
    {
      "cell_type": "code",
      "metadata": {
        "colab": {
          "base_uri": "https://localhost:8080/",
          "height": 202
        },
        "id": "SfJWzrViXqvY",
        "outputId": "1611ab84-c212-46f9-9729-64ca9bbff227"
      },
      "source": [
        "anger_df = pd.DataFrame()\r\n",
        "origin_folder='/content/animated_images/anger' #animated\r\n",
        "files=os.listdir(origin_folder) \r\n",
        "image_files=[]\r\n",
        "for i in range(len(files)):\r\n",
        "  file_addr=origin_folder+'/'+files[i]\r\n",
        "  image_files.append(file_addr)\r\n",
        "anger_df['file']=image_files\r\n",
        "anger_df['file_name']=files\r\n",
        "anger_df['label']=0\r\n",
        "anger_df.head()"
      ],
      "execution_count": null,
      "outputs": [
        {
          "output_type": "execute_result",
          "data": {
            "text/html": [
              "<div>\n",
              "<style scoped>\n",
              "    .dataframe tbody tr th:only-of-type {\n",
              "        vertical-align: middle;\n",
              "    }\n",
              "\n",
              "    .dataframe tbody tr th {\n",
              "        vertical-align: top;\n",
              "    }\n",
              "\n",
              "    .dataframe thead th {\n",
              "        text-align: right;\n",
              "    }\n",
              "</style>\n",
              "<table border=\"1\" class=\"dataframe\">\n",
              "  <thead>\n",
              "    <tr style=\"text-align: right;\">\n",
              "      <th></th>\n",
              "      <th>file</th>\n",
              "      <th>file_name</th>\n",
              "      <th>label</th>\n",
              "    </tr>\n",
              "  </thead>\n",
              "  <tbody>\n",
              "    <tr>\n",
              "      <th>0</th>\n",
              "      <td>/content/animated_images/anger/anger-020799.png</td>\n",
              "      <td>anger-020799.png</td>\n",
              "      <td>0</td>\n",
              "    </tr>\n",
              "    <tr>\n",
              "      <th>1</th>\n",
              "      <td>/content/animated_images/anger/anger-021940.png</td>\n",
              "      <td>anger-021940.png</td>\n",
              "      <td>0</td>\n",
              "    </tr>\n",
              "    <tr>\n",
              "      <th>2</th>\n",
              "      <td>/content/animated_images/anger/anger-022029.png</td>\n",
              "      <td>anger-022029.png</td>\n",
              "      <td>0</td>\n",
              "    </tr>\n",
              "    <tr>\n",
              "      <th>3</th>\n",
              "      <td>/content/animated_images/anger/anger-019044.png</td>\n",
              "      <td>anger-019044.png</td>\n",
              "      <td>0</td>\n",
              "    </tr>\n",
              "    <tr>\n",
              "      <th>4</th>\n",
              "      <td>/content/animated_images/anger/anger-021516.png</td>\n",
              "      <td>anger-021516.png</td>\n",
              "      <td>0</td>\n",
              "    </tr>\n",
              "  </tbody>\n",
              "</table>\n",
              "</div>"
            ],
            "text/plain": [
              "                                              file         file_name  label\n",
              "0  /content/animated_images/anger/anger-020799.png  anger-020799.png      0\n",
              "1  /content/animated_images/anger/anger-021940.png  anger-021940.png      0\n",
              "2  /content/animated_images/anger/anger-022029.png  anger-022029.png      0\n",
              "3  /content/animated_images/anger/anger-019044.png  anger-019044.png      0\n",
              "4  /content/animated_images/anger/anger-021516.png  anger-021516.png      0"
            ]
          },
          "metadata": {
            "tags": []
          },
          "execution_count": 5
        }
      ]
    },
    {
      "cell_type": "code",
      "metadata": {
        "colab": {
          "base_uri": "https://localhost:8080/",
          "height": 202
        },
        "id": "nmJydbv_YKQH",
        "outputId": "ab385c72-f1ff-447c-9e85-defd0dbd68a5"
      },
      "source": [
        "disgust_df = pd.DataFrame()\r\n",
        "origin_folder='/content/animated_images/disgust'\r\n",
        "files=os.listdir(origin_folder)\r\n",
        "image_files=[]\r\n",
        "for i in range(len(files)):\r\n",
        "  file_addr=origin_folder+'/'+files[i]\r\n",
        "  image_files.append(file_addr)\r\n",
        "disgust_df['file']=image_files\r\n",
        "disgust_df['file_name']=files\r\n",
        "disgust_df['label']=1\r\n",
        "disgust_df.head()"
      ],
      "execution_count": null,
      "outputs": [
        {
          "output_type": "execute_result",
          "data": {
            "text/html": [
              "<div>\n",
              "<style scoped>\n",
              "    .dataframe tbody tr th:only-of-type {\n",
              "        vertical-align: middle;\n",
              "    }\n",
              "\n",
              "    .dataframe tbody tr th {\n",
              "        vertical-align: top;\n",
              "    }\n",
              "\n",
              "    .dataframe thead th {\n",
              "        text-align: right;\n",
              "    }\n",
              "</style>\n",
              "<table border=\"1\" class=\"dataframe\">\n",
              "  <thead>\n",
              "    <tr style=\"text-align: right;\">\n",
              "      <th></th>\n",
              "      <th>file</th>\n",
              "      <th>file_name</th>\n",
              "      <th>label</th>\n",
              "    </tr>\n",
              "  </thead>\n",
              "  <tbody>\n",
              "    <tr>\n",
              "      <th>0</th>\n",
              "      <td>/content/animated_images/disgust/disgust-00722...</td>\n",
              "      <td>disgust-007222.png</td>\n",
              "      <td>1</td>\n",
              "    </tr>\n",
              "    <tr>\n",
              "      <th>1</th>\n",
              "      <td>/content/animated_images/disgust/disgust-00766...</td>\n",
              "      <td>disgust-007660.png</td>\n",
              "      <td>1</td>\n",
              "    </tr>\n",
              "    <tr>\n",
              "      <th>2</th>\n",
              "      <td>/content/animated_images/disgust/disgust-00337...</td>\n",
              "      <td>disgust-003374.png</td>\n",
              "      <td>1</td>\n",
              "    </tr>\n",
              "    <tr>\n",
              "      <th>3</th>\n",
              "      <td>/content/animated_images/disgust/disgust-00460...</td>\n",
              "      <td>disgust-004607.png</td>\n",
              "      <td>1</td>\n",
              "    </tr>\n",
              "    <tr>\n",
              "      <th>4</th>\n",
              "      <td>/content/animated_images/disgust/disgust-00788...</td>\n",
              "      <td>disgust-007889.png</td>\n",
              "      <td>1</td>\n",
              "    </tr>\n",
              "  </tbody>\n",
              "</table>\n",
              "</div>"
            ],
            "text/plain": [
              "                                                file           file_name  label\n",
              "0  /content/animated_images/disgust/disgust-00722...  disgust-007222.png      1\n",
              "1  /content/animated_images/disgust/disgust-00766...  disgust-007660.png      1\n",
              "2  /content/animated_images/disgust/disgust-00337...  disgust-003374.png      1\n",
              "3  /content/animated_images/disgust/disgust-00460...  disgust-004607.png      1\n",
              "4  /content/animated_images/disgust/disgust-00788...  disgust-007889.png      1"
            ]
          },
          "metadata": {
            "tags": []
          },
          "execution_count": 6
        }
      ]
    },
    {
      "cell_type": "code",
      "metadata": {
        "colab": {
          "base_uri": "https://localhost:8080/",
          "height": 202
        },
        "id": "ZK4LYyreYQA9",
        "outputId": "5e99c9ad-0c94-413a-a03b-d34ad5ddc632"
      },
      "source": [
        "fear_df = pd.DataFrame()\r\n",
        "origin_folder='/content/animated_images/fear'\r\n",
        "files=os.listdir(origin_folder)\r\n",
        "image_files=[]\r\n",
        "for i in range(len(files)):\r\n",
        "  file_addr=origin_folder+'/'+files[i]\r\n",
        "  image_files.append(file_addr)\r\n",
        "fear_df['file']=image_files\r\n",
        "fear_df['file_name']=files\r\n",
        "fear_df['label']=2\r\n",
        "fear_df.head()"
      ],
      "execution_count": null,
      "outputs": [
        {
          "output_type": "execute_result",
          "data": {
            "text/html": [
              "<div>\n",
              "<style scoped>\n",
              "    .dataframe tbody tr th:only-of-type {\n",
              "        vertical-align: middle;\n",
              "    }\n",
              "\n",
              "    .dataframe tbody tr th {\n",
              "        vertical-align: top;\n",
              "    }\n",
              "\n",
              "    .dataframe thead th {\n",
              "        text-align: right;\n",
              "    }\n",
              "</style>\n",
              "<table border=\"1\" class=\"dataframe\">\n",
              "  <thead>\n",
              "    <tr style=\"text-align: right;\">\n",
              "      <th></th>\n",
              "      <th>file</th>\n",
              "      <th>file_name</th>\n",
              "      <th>label</th>\n",
              "    </tr>\n",
              "  </thead>\n",
              "  <tbody>\n",
              "    <tr>\n",
              "      <th>0</th>\n",
              "      <td>/content/animated_images/fear/fear-055189.png</td>\n",
              "      <td>fear-055189.png</td>\n",
              "      <td>2</td>\n",
              "    </tr>\n",
              "    <tr>\n",
              "      <th>1</th>\n",
              "      <td>/content/animated_images/fear/fear-054197.png</td>\n",
              "      <td>fear-054197.png</td>\n",
              "      <td>2</td>\n",
              "    </tr>\n",
              "    <tr>\n",
              "      <th>2</th>\n",
              "      <td>/content/animated_images/fear/fear-051427.png</td>\n",
              "      <td>fear-051427.png</td>\n",
              "      <td>2</td>\n",
              "    </tr>\n",
              "    <tr>\n",
              "      <th>3</th>\n",
              "      <td>/content/animated_images/fear/fear-050109.png</td>\n",
              "      <td>fear-050109.png</td>\n",
              "      <td>2</td>\n",
              "    </tr>\n",
              "    <tr>\n",
              "      <th>4</th>\n",
              "      <td>/content/animated_images/fear/fear-055698.png</td>\n",
              "      <td>fear-055698.png</td>\n",
              "      <td>2</td>\n",
              "    </tr>\n",
              "  </tbody>\n",
              "</table>\n",
              "</div>"
            ],
            "text/plain": [
              "                                            file        file_name  label\n",
              "0  /content/animated_images/fear/fear-055189.png  fear-055189.png      2\n",
              "1  /content/animated_images/fear/fear-054197.png  fear-054197.png      2\n",
              "2  /content/animated_images/fear/fear-051427.png  fear-051427.png      2\n",
              "3  /content/animated_images/fear/fear-050109.png  fear-050109.png      2\n",
              "4  /content/animated_images/fear/fear-055698.png  fear-055698.png      2"
            ]
          },
          "metadata": {
            "tags": []
          },
          "execution_count": 7
        }
      ]
    },
    {
      "cell_type": "code",
      "metadata": {
        "colab": {
          "base_uri": "https://localhost:8080/",
          "height": 202
        },
        "id": "XU37mhgoYjlO",
        "outputId": "0200d31c-2e7c-4b97-dfbf-fc0f7bf8f29e"
      },
      "source": [
        "joy_df = pd.DataFrame()\r\n",
        "origin_folder='/content/animated_images/joy'\r\n",
        "files=os.listdir(origin_folder)\r\n",
        "image_files=[]\r\n",
        "for i in range(len(files)):\r\n",
        "  file_addr=origin_folder+'/'+files[i]\r\n",
        "  image_files.append(file_addr)\r\n",
        "joy_df['file']=image_files\r\n",
        "joy_df['file_name']=files\r\n",
        "joy_df['label']=3\r\n",
        "joy_df.head()"
      ],
      "execution_count": null,
      "outputs": [
        {
          "output_type": "execute_result",
          "data": {
            "text/html": [
              "<div>\n",
              "<style scoped>\n",
              "    .dataframe tbody tr th:only-of-type {\n",
              "        vertical-align: middle;\n",
              "    }\n",
              "\n",
              "    .dataframe tbody tr th {\n",
              "        vertical-align: top;\n",
              "    }\n",
              "\n",
              "    .dataframe thead th {\n",
              "        text-align: right;\n",
              "    }\n",
              "</style>\n",
              "<table border=\"1\" class=\"dataframe\">\n",
              "  <thead>\n",
              "    <tr style=\"text-align: right;\">\n",
              "      <th></th>\n",
              "      <th>file</th>\n",
              "      <th>file_name</th>\n",
              "      <th>label</th>\n",
              "    </tr>\n",
              "  </thead>\n",
              "  <tbody>\n",
              "    <tr>\n",
              "      <th>0</th>\n",
              "      <td>/content/animated_images/joy/joy-042119.png</td>\n",
              "      <td>joy-042119.png</td>\n",
              "      <td>3</td>\n",
              "    </tr>\n",
              "    <tr>\n",
              "      <th>1</th>\n",
              "      <td>/content/animated_images/joy/joy-042243.png</td>\n",
              "      <td>joy-042243.png</td>\n",
              "      <td>3</td>\n",
              "    </tr>\n",
              "    <tr>\n",
              "      <th>2</th>\n",
              "      <td>/content/animated_images/joy/joy-045693.png</td>\n",
              "      <td>joy-045693.png</td>\n",
              "      <td>3</td>\n",
              "    </tr>\n",
              "    <tr>\n",
              "      <th>3</th>\n",
              "      <td>/content/animated_images/joy/joy-044430.png</td>\n",
              "      <td>joy-044430.png</td>\n",
              "      <td>3</td>\n",
              "    </tr>\n",
              "    <tr>\n",
              "      <th>4</th>\n",
              "      <td>/content/animated_images/joy/joy-046679.png</td>\n",
              "      <td>joy-046679.png</td>\n",
              "      <td>3</td>\n",
              "    </tr>\n",
              "  </tbody>\n",
              "</table>\n",
              "</div>"
            ],
            "text/plain": [
              "                                          file       file_name  label\n",
              "0  /content/animated_images/joy/joy-042119.png  joy-042119.png      3\n",
              "1  /content/animated_images/joy/joy-042243.png  joy-042243.png      3\n",
              "2  /content/animated_images/joy/joy-045693.png  joy-045693.png      3\n",
              "3  /content/animated_images/joy/joy-044430.png  joy-044430.png      3\n",
              "4  /content/animated_images/joy/joy-046679.png  joy-046679.png      3"
            ]
          },
          "metadata": {
            "tags": []
          },
          "execution_count": 8
        }
      ]
    },
    {
      "cell_type": "code",
      "metadata": {
        "colab": {
          "base_uri": "https://localhost:8080/",
          "height": 202
        },
        "id": "x_8oqezJYr3S",
        "outputId": "3faec179-165a-4907-8016-edf2b929e95e"
      },
      "source": [
        "sadness_df = pd.DataFrame()\r\n",
        "origin_folder='/content/animated_images/sadness'\r\n",
        "files=os.listdir(origin_folder)\r\n",
        "image_files=[]\r\n",
        "for i in range(len(files)):\r\n",
        "  file_addr=origin_folder+'/'+files[i]\r\n",
        "  image_files.append(file_addr)\r\n",
        "sadness_df['file']=image_files\r\n",
        "sadness_df['file_name']=files\r\n",
        "sadness_df['label']=4\r\n",
        "sadness_df.head()"
      ],
      "execution_count": null,
      "outputs": [
        {
          "output_type": "execute_result",
          "data": {
            "text/html": [
              "<div>\n",
              "<style scoped>\n",
              "    .dataframe tbody tr th:only-of-type {\n",
              "        vertical-align: middle;\n",
              "    }\n",
              "\n",
              "    .dataframe tbody tr th {\n",
              "        vertical-align: top;\n",
              "    }\n",
              "\n",
              "    .dataframe thead th {\n",
              "        text-align: right;\n",
              "    }\n",
              "</style>\n",
              "<table border=\"1\" class=\"dataframe\">\n",
              "  <thead>\n",
              "    <tr style=\"text-align: right;\">\n",
              "      <th></th>\n",
              "      <th>file</th>\n",
              "      <th>file_name</th>\n",
              "      <th>label</th>\n",
              "    </tr>\n",
              "  </thead>\n",
              "  <tbody>\n",
              "    <tr>\n",
              "      <th>0</th>\n",
              "      <td>/content/animated_images/sadness/sadness-03584...</td>\n",
              "      <td>sadness-035843.png</td>\n",
              "      <td>4</td>\n",
              "    </tr>\n",
              "    <tr>\n",
              "      <th>1</th>\n",
              "      <td>/content/animated_images/sadness/sadness-03570...</td>\n",
              "      <td>sadness-035707.png</td>\n",
              "      <td>4</td>\n",
              "    </tr>\n",
              "    <tr>\n",
              "      <th>2</th>\n",
              "      <td>/content/animated_images/sadness/sadness-03562...</td>\n",
              "      <td>sadness-035620.png</td>\n",
              "      <td>4</td>\n",
              "    </tr>\n",
              "    <tr>\n",
              "      <th>3</th>\n",
              "      <td>/content/animated_images/sadness/sadness-03459...</td>\n",
              "      <td>sadness-034595.png</td>\n",
              "      <td>4</td>\n",
              "    </tr>\n",
              "    <tr>\n",
              "      <th>4</th>\n",
              "      <td>/content/animated_images/sadness/sadness-03518...</td>\n",
              "      <td>sadness-035183.png</td>\n",
              "      <td>4</td>\n",
              "    </tr>\n",
              "  </tbody>\n",
              "</table>\n",
              "</div>"
            ],
            "text/plain": [
              "                                                file           file_name  label\n",
              "0  /content/animated_images/sadness/sadness-03584...  sadness-035843.png      4\n",
              "1  /content/animated_images/sadness/sadness-03570...  sadness-035707.png      4\n",
              "2  /content/animated_images/sadness/sadness-03562...  sadness-035620.png      4\n",
              "3  /content/animated_images/sadness/sadness-03459...  sadness-034595.png      4\n",
              "4  /content/animated_images/sadness/sadness-03518...  sadness-035183.png      4"
            ]
          },
          "metadata": {
            "tags": []
          },
          "execution_count": 9
        }
      ]
    },
    {
      "cell_type": "code",
      "metadata": {
        "colab": {
          "base_uri": "https://localhost:8080/",
          "height": 202
        },
        "id": "q1oLzJUCY1Yq",
        "outputId": "ea089b4e-b5eb-4a56-ee09-609fdb04c9be"
      },
      "source": [
        "surprise_df = pd.DataFrame()\r\n",
        "origin_folder='/content/animated_images/surprise'\r\n",
        "files=os.listdir(origin_folder)\r\n",
        "image_files=[]\r\n",
        "for i in range(len(files)):\r\n",
        "  file_addr=origin_folder+'/'+files[i]\r\n",
        "  image_files.append(file_addr)\r\n",
        "surprise_df['file']=image_files\r\n",
        "surprise_df['file_name']=files\r\n",
        "surprise_df['label']=5\r\n",
        "surprise_df.head()"
      ],
      "execution_count": null,
      "outputs": [
        {
          "output_type": "execute_result",
          "data": {
            "text/html": [
              "<div>\n",
              "<style scoped>\n",
              "    .dataframe tbody tr th:only-of-type {\n",
              "        vertical-align: middle;\n",
              "    }\n",
              "\n",
              "    .dataframe tbody tr th {\n",
              "        vertical-align: top;\n",
              "    }\n",
              "\n",
              "    .dataframe thead th {\n",
              "        text-align: right;\n",
              "    }\n",
              "</style>\n",
              "<table border=\"1\" class=\"dataframe\">\n",
              "  <thead>\n",
              "    <tr style=\"text-align: right;\">\n",
              "      <th></th>\n",
              "      <th>file</th>\n",
              "      <th>file_name</th>\n",
              "      <th>label</th>\n",
              "    </tr>\n",
              "  </thead>\n",
              "  <tbody>\n",
              "    <tr>\n",
              "      <th>0</th>\n",
              "      <td>/content/animated_images/surprise/surprise-028...</td>\n",
              "      <td>surprise-028467.png</td>\n",
              "      <td>5</td>\n",
              "    </tr>\n",
              "    <tr>\n",
              "      <th>1</th>\n",
              "      <td>/content/animated_images/surprise/surprise-030...</td>\n",
              "      <td>surprise-030971.png</td>\n",
              "      <td>5</td>\n",
              "    </tr>\n",
              "    <tr>\n",
              "      <th>2</th>\n",
              "      <td>/content/animated_images/surprise/surprise-030...</td>\n",
              "      <td>surprise-030646.png</td>\n",
              "      <td>5</td>\n",
              "    </tr>\n",
              "    <tr>\n",
              "      <th>3</th>\n",
              "      <td>/content/animated_images/surprise/surprise-032...</td>\n",
              "      <td>surprise-032901.png</td>\n",
              "      <td>5</td>\n",
              "    </tr>\n",
              "    <tr>\n",
              "      <th>4</th>\n",
              "      <td>/content/animated_images/surprise/surprise-025...</td>\n",
              "      <td>surprise-025738.png</td>\n",
              "      <td>5</td>\n",
              "    </tr>\n",
              "  </tbody>\n",
              "</table>\n",
              "</div>"
            ],
            "text/plain": [
              "                                                file  ... label\n",
              "0  /content/animated_images/surprise/surprise-028...  ...     5\n",
              "1  /content/animated_images/surprise/surprise-030...  ...     5\n",
              "2  /content/animated_images/surprise/surprise-030...  ...     5\n",
              "3  /content/animated_images/surprise/surprise-032...  ...     5\n",
              "4  /content/animated_images/surprise/surprise-025...  ...     5\n",
              "\n",
              "[5 rows x 3 columns]"
            ]
          },
          "metadata": {
            "tags": []
          },
          "execution_count": 10
        }
      ]
    },
    {
      "cell_type": "code",
      "metadata": {
        "colab": {
          "base_uri": "https://localhost:8080/",
          "height": 202
        },
        "id": "iXIGHh1JY6sE",
        "outputId": "2505a549-00c0-473f-e377-cf1dfbce2b40"
      },
      "source": [
        "neutral_df = pd.DataFrame()\r\n",
        "origin_folder='/content/animated_images/neutral'\r\n",
        "files=os.listdir(origin_folder)\r\n",
        "image_files=[]\r\n",
        "for i in range(len(files)):\r\n",
        "  file_addr=origin_folder+'/'+files[i]\r\n",
        "  image_files.append(file_addr)\r\n",
        "neutral_df['file']=image_files\r\n",
        "neutral_df['file_name']=files\r\n",
        "neutral_df['label']=6\r\n",
        "neutral_df.head()"
      ],
      "execution_count": null,
      "outputs": [
        {
          "output_type": "execute_result",
          "data": {
            "text/html": [
              "<div>\n",
              "<style scoped>\n",
              "    .dataframe tbody tr th:only-of-type {\n",
              "        vertical-align: middle;\n",
              "    }\n",
              "\n",
              "    .dataframe tbody tr th {\n",
              "        vertical-align: top;\n",
              "    }\n",
              "\n",
              "    .dataframe thead th {\n",
              "        text-align: right;\n",
              "    }\n",
              "</style>\n",
              "<table border=\"1\" class=\"dataframe\">\n",
              "  <thead>\n",
              "    <tr style=\"text-align: right;\">\n",
              "      <th></th>\n",
              "      <th>file</th>\n",
              "      <th>file_name</th>\n",
              "      <th>label</th>\n",
              "    </tr>\n",
              "  </thead>\n",
              "  <tbody>\n",
              "    <tr>\n",
              "      <th>0</th>\n",
              "      <td>/content/animated_images/neutral/neutral-00864...</td>\n",
              "      <td>neutral-008640.png</td>\n",
              "      <td>6</td>\n",
              "    </tr>\n",
              "    <tr>\n",
              "      <th>1</th>\n",
              "      <td>/content/animated_images/neutral/neutral-01303...</td>\n",
              "      <td>neutral-013037.png</td>\n",
              "      <td>6</td>\n",
              "    </tr>\n",
              "    <tr>\n",
              "      <th>2</th>\n",
              "      <td>/content/animated_images/neutral/neutral-01324...</td>\n",
              "      <td>neutral-013244.png</td>\n",
              "      <td>6</td>\n",
              "    </tr>\n",
              "    <tr>\n",
              "      <th>3</th>\n",
              "      <td>/content/animated_images/neutral/neutral-01104...</td>\n",
              "      <td>neutral-011047.png</td>\n",
              "      <td>6</td>\n",
              "    </tr>\n",
              "    <tr>\n",
              "      <th>4</th>\n",
              "      <td>/content/animated_images/neutral/neutral-01432...</td>\n",
              "      <td>neutral-014326.png</td>\n",
              "      <td>6</td>\n",
              "    </tr>\n",
              "  </tbody>\n",
              "</table>\n",
              "</div>"
            ],
            "text/plain": [
              "                                                file           file_name  label\n",
              "0  /content/animated_images/neutral/neutral-00864...  neutral-008640.png      6\n",
              "1  /content/animated_images/neutral/neutral-01303...  neutral-013037.png      6\n",
              "2  /content/animated_images/neutral/neutral-01324...  neutral-013244.png      6\n",
              "3  /content/animated_images/neutral/neutral-01104...  neutral-011047.png      6\n",
              "4  /content/animated_images/neutral/neutral-01432...  neutral-014326.png      6"
            ]
          },
          "metadata": {
            "tags": []
          },
          "execution_count": 11
        }
      ]
    },
    {
      "cell_type": "markdown",
      "metadata": {
        "id": "fYW3R8N303tD"
      },
      "source": [
        "Concatenate all dataframes together."
      ]
    },
    {
      "cell_type": "code",
      "metadata": {
        "colab": {
          "base_uri": "https://localhost:8080/",
          "height": 219
        },
        "id": "w_wGXTv5ZGrp",
        "outputId": "444e1b52-218c-4c0f-a891-05202272b805"
      },
      "source": [
        "#frames=[anger_df_reduced,disgust_df_reduced,fear_df_reduced,joy_df_reduced,sadness_df_reduced,surprise_df_reduced,neutral_df_reduced]\r\n",
        "frames=[anger_df,disgust_df,fear_df,joy_df,sadness_df,surprise_df,neutral_df]\r\n",
        "total_df=pd.concat(frames)\r\n",
        "total_df.head(200)\r\n",
        "print(total_df.shape[1])\r\n",
        "total_df.head()"
      ],
      "execution_count": null,
      "outputs": [
        {
          "output_type": "stream",
          "text": [
            "3\n"
          ],
          "name": "stdout"
        },
        {
          "output_type": "execute_result",
          "data": {
            "text/html": [
              "<div>\n",
              "<style scoped>\n",
              "    .dataframe tbody tr th:only-of-type {\n",
              "        vertical-align: middle;\n",
              "    }\n",
              "\n",
              "    .dataframe tbody tr th {\n",
              "        vertical-align: top;\n",
              "    }\n",
              "\n",
              "    .dataframe thead th {\n",
              "        text-align: right;\n",
              "    }\n",
              "</style>\n",
              "<table border=\"1\" class=\"dataframe\">\n",
              "  <thead>\n",
              "    <tr style=\"text-align: right;\">\n",
              "      <th></th>\n",
              "      <th>file</th>\n",
              "      <th>file_name</th>\n",
              "      <th>label</th>\n",
              "    </tr>\n",
              "  </thead>\n",
              "  <tbody>\n",
              "    <tr>\n",
              "      <th>0</th>\n",
              "      <td>/content/animated_images/anger/anger-020799.png</td>\n",
              "      <td>anger-020799.png</td>\n",
              "      <td>0</td>\n",
              "    </tr>\n",
              "    <tr>\n",
              "      <th>1</th>\n",
              "      <td>/content/animated_images/anger/anger-021940.png</td>\n",
              "      <td>anger-021940.png</td>\n",
              "      <td>0</td>\n",
              "    </tr>\n",
              "    <tr>\n",
              "      <th>2</th>\n",
              "      <td>/content/animated_images/anger/anger-022029.png</td>\n",
              "      <td>anger-022029.png</td>\n",
              "      <td>0</td>\n",
              "    </tr>\n",
              "    <tr>\n",
              "      <th>3</th>\n",
              "      <td>/content/animated_images/anger/anger-019044.png</td>\n",
              "      <td>anger-019044.png</td>\n",
              "      <td>0</td>\n",
              "    </tr>\n",
              "    <tr>\n",
              "      <th>4</th>\n",
              "      <td>/content/animated_images/anger/anger-021516.png</td>\n",
              "      <td>anger-021516.png</td>\n",
              "      <td>0</td>\n",
              "    </tr>\n",
              "  </tbody>\n",
              "</table>\n",
              "</div>"
            ],
            "text/plain": [
              "                                              file         file_name  label\n",
              "0  /content/animated_images/anger/anger-020799.png  anger-020799.png      0\n",
              "1  /content/animated_images/anger/anger-021940.png  anger-021940.png      0\n",
              "2  /content/animated_images/anger/anger-022029.png  anger-022029.png      0\n",
              "3  /content/animated_images/anger/anger-019044.png  anger-019044.png      0\n",
              "4  /content/animated_images/anger/anger-021516.png  anger-021516.png      0"
            ]
          },
          "metadata": {
            "tags": []
          },
          "execution_count": 12
        }
      ]
    },
    {
      "cell_type": "markdown",
      "metadata": {
        "id": "x2_5N13W0-gC"
      },
      "source": [
        "Train/Test split"
      ]
    },
    {
      "cell_type": "code",
      "metadata": {
        "id": "7s_zDTIlay1K"
      },
      "source": [
        "df_x_train,df_x_test,df_y_train,df_y_test=train_test_split(total_df,total_df['label'],test_size=0.2)"
      ],
      "execution_count": null,
      "outputs": []
    },
    {
      "cell_type": "code",
      "metadata": {
        "colab": {
          "base_uri": "https://localhost:8080/"
        },
        "id": "fnZtQuamcvyj",
        "outputId": "9a9c3973-4629-480c-b65c-d253d643f385"
      },
      "source": [
        "df_x_train.shape"
      ],
      "execution_count": null,
      "outputs": [
        {
          "output_type": "execute_result",
          "data": {
            "text/plain": [
              "(44612, 3)"
            ]
          },
          "metadata": {
            "tags": []
          },
          "execution_count": 16
        }
      ]
    },
    {
      "cell_type": "code",
      "metadata": {
        "colab": {
          "base_uri": "https://localhost:8080/"
        },
        "id": "OitND1thAA0i",
        "outputId": "324237d3-76a8-4b91-d4e4-53db0b314480"
      },
      "source": [
        "df_x_test.shape"
      ],
      "execution_count": null,
      "outputs": [
        {
          "output_type": "execute_result",
          "data": {
            "text/plain": [
              "(11154, 3)"
            ]
          },
          "metadata": {
            "tags": []
          },
          "execution_count": 34
        }
      ]
    },
    {
      "cell_type": "code",
      "metadata": {
        "colab": {
          "base_uri": "https://localhost:8080/",
          "height": 662
        },
        "id": "IznpZa2Bjtnc",
        "outputId": "dc8425f5-c23a-4416-da39-1949739b2150"
      },
      "source": [
        "df_x_train.head(20)"
      ],
      "execution_count": null,
      "outputs": [
        {
          "output_type": "execute_result",
          "data": {
            "text/html": [
              "<div>\n",
              "<style scoped>\n",
              "    .dataframe tbody tr th:only-of-type {\n",
              "        vertical-align: middle;\n",
              "    }\n",
              "\n",
              "    .dataframe tbody tr th {\n",
              "        vertical-align: top;\n",
              "    }\n",
              "\n",
              "    .dataframe thead th {\n",
              "        text-align: right;\n",
              "    }\n",
              "</style>\n",
              "<table border=\"1\" class=\"dataframe\">\n",
              "  <thead>\n",
              "    <tr style=\"text-align: right;\">\n",
              "      <th></th>\n",
              "      <th>file</th>\n",
              "      <th>file_name</th>\n",
              "      <th>label</th>\n",
              "    </tr>\n",
              "  </thead>\n",
              "  <tbody>\n",
              "    <tr>\n",
              "      <th>1189</th>\n",
              "      <td>/content/processed_images/joy/image_5360.png</td>\n",
              "      <td>image_5360.png</td>\n",
              "      <td>3</td>\n",
              "    </tr>\n",
              "    <tr>\n",
              "      <th>1167</th>\n",
              "      <td>/content/processed_images/joy/image_5365.png</td>\n",
              "      <td>image_5365.png</td>\n",
              "      <td>3</td>\n",
              "    </tr>\n",
              "    <tr>\n",
              "      <th>1217</th>\n",
              "      <td>/content/processed_images/disgust/image_2975.png</td>\n",
              "      <td>image_2975.png</td>\n",
              "      <td>1</td>\n",
              "    </tr>\n",
              "    <tr>\n",
              "      <th>360</th>\n",
              "      <td>/content/processed_images/neutral/image_9997.png</td>\n",
              "      <td>image_9997.png</td>\n",
              "      <td>6</td>\n",
              "    </tr>\n",
              "    <tr>\n",
              "      <th>543</th>\n",
              "      <td>/content/processed_images/anger/image_785.png</td>\n",
              "      <td>image_785.png</td>\n",
              "      <td>0</td>\n",
              "    </tr>\n",
              "    <tr>\n",
              "      <th>576</th>\n",
              "      <td>/content/processed_images/disgust/image_1892.png</td>\n",
              "      <td>image_1892.png</td>\n",
              "      <td>1</td>\n",
              "    </tr>\n",
              "    <tr>\n",
              "      <th>789</th>\n",
              "      <td>/content/processed_images/sadness/image_7041.png</td>\n",
              "      <td>image_7041.png</td>\n",
              "      <td>4</td>\n",
              "    </tr>\n",
              "    <tr>\n",
              "      <th>1390</th>\n",
              "      <td>/content/processed_images/anger/image_1048.png</td>\n",
              "      <td>image_1048.png</td>\n",
              "      <td>0</td>\n",
              "    </tr>\n",
              "    <tr>\n",
              "      <th>1471</th>\n",
              "      <td>/content/processed_images/disgust/image_2684.png</td>\n",
              "      <td>image_2684.png</td>\n",
              "      <td>1</td>\n",
              "    </tr>\n",
              "    <tr>\n",
              "      <th>1066</th>\n",
              "      <td>/content/processed_images/surprise/image_8783.png</td>\n",
              "      <td>image_8783.png</td>\n",
              "      <td>5</td>\n",
              "    </tr>\n",
              "    <tr>\n",
              "      <th>1159</th>\n",
              "      <td>/content/processed_images/joy/image_4923.png</td>\n",
              "      <td>image_4923.png</td>\n",
              "      <td>3</td>\n",
              "    </tr>\n",
              "    <tr>\n",
              "      <th>871</th>\n",
              "      <td>/content/processed_images/neutral/image_9909.png</td>\n",
              "      <td>image_9909.png</td>\n",
              "      <td>6</td>\n",
              "    </tr>\n",
              "    <tr>\n",
              "      <th>298</th>\n",
              "      <td>/content/processed_images/disgust/image_1998.png</td>\n",
              "      <td>image_1998.png</td>\n",
              "      <td>1</td>\n",
              "    </tr>\n",
              "    <tr>\n",
              "      <th>15</th>\n",
              "      <td>/content/processed_images/disgust/image_1600.png</td>\n",
              "      <td>image_1600.png</td>\n",
              "      <td>1</td>\n",
              "    </tr>\n",
              "    <tr>\n",
              "      <th>286</th>\n",
              "      <td>/content/processed_images/fear/image_3207.png</td>\n",
              "      <td>image_3207.png</td>\n",
              "      <td>2</td>\n",
              "    </tr>\n",
              "    <tr>\n",
              "      <th>43</th>\n",
              "      <td>/content/processed_images/disgust/image_2519.png</td>\n",
              "      <td>image_2519.png</td>\n",
              "      <td>1</td>\n",
              "    </tr>\n",
              "    <tr>\n",
              "      <th>715</th>\n",
              "      <td>/content/processed_images/sadness/image_6575.png</td>\n",
              "      <td>image_6575.png</td>\n",
              "      <td>4</td>\n",
              "    </tr>\n",
              "    <tr>\n",
              "      <th>671</th>\n",
              "      <td>/content/processed_images/neutral/image_9227.png</td>\n",
              "      <td>image_9227.png</td>\n",
              "      <td>6</td>\n",
              "    </tr>\n",
              "    <tr>\n",
              "      <th>770</th>\n",
              "      <td>/content/processed_images/anger/image_232.png</td>\n",
              "      <td>image_232.png</td>\n",
              "      <td>0</td>\n",
              "    </tr>\n",
              "    <tr>\n",
              "      <th>577</th>\n",
              "      <td>/content/processed_images/fear/image_3783.png</td>\n",
              "      <td>image_3783.png</td>\n",
              "      <td>2</td>\n",
              "    </tr>\n",
              "  </tbody>\n",
              "</table>\n",
              "</div>"
            ],
            "text/plain": [
              "                                                   file       file_name  label\n",
              "1189       /content/processed_images/joy/image_5360.png  image_5360.png      3\n",
              "1167       /content/processed_images/joy/image_5365.png  image_5365.png      3\n",
              "1217   /content/processed_images/disgust/image_2975.png  image_2975.png      1\n",
              "360    /content/processed_images/neutral/image_9997.png  image_9997.png      6\n",
              "543       /content/processed_images/anger/image_785.png   image_785.png      0\n",
              "576    /content/processed_images/disgust/image_1892.png  image_1892.png      1\n",
              "789    /content/processed_images/sadness/image_7041.png  image_7041.png      4\n",
              "1390     /content/processed_images/anger/image_1048.png  image_1048.png      0\n",
              "1471   /content/processed_images/disgust/image_2684.png  image_2684.png      1\n",
              "1066  /content/processed_images/surprise/image_8783.png  image_8783.png      5\n",
              "1159       /content/processed_images/joy/image_4923.png  image_4923.png      3\n",
              "871    /content/processed_images/neutral/image_9909.png  image_9909.png      6\n",
              "298    /content/processed_images/disgust/image_1998.png  image_1998.png      1\n",
              "15     /content/processed_images/disgust/image_1600.png  image_1600.png      1\n",
              "286       /content/processed_images/fear/image_3207.png  image_3207.png      2\n",
              "43     /content/processed_images/disgust/image_2519.png  image_2519.png      1\n",
              "715    /content/processed_images/sadness/image_6575.png  image_6575.png      4\n",
              "671    /content/processed_images/neutral/image_9227.png  image_9227.png      6\n",
              "770       /content/processed_images/anger/image_232.png   image_232.png      0\n",
              "577       /content/processed_images/fear/image_3783.png  image_3783.png      2"
            ]
          },
          "metadata": {
            "tags": []
          },
          "execution_count": 70
        }
      ]
    },
    {
      "cell_type": "code",
      "metadata": {
        "id": "yXV0ZKW4a5GX"
      },
      "source": [
        "!rm -rf animated_train animated_test\r\n",
        "!mkdir animated_train\r\n",
        "!mkdir animated_test"
      ],
      "execution_count": null,
      "outputs": []
    },
    {
      "cell_type": "code",
      "metadata": {
        "id": "8PvNzF_oa6vb"
      },
      "source": [
        "!mkdir animated_train/anger animated_train/disgust animated_train/fear animated_train/joy animated_train/sadness animated_train/surprise animated_train/neutral"
      ],
      "execution_count": null,
      "outputs": []
    },
    {
      "cell_type": "code",
      "metadata": {
        "id": "lPgRie2ma-VB"
      },
      "source": [
        "!mkdir animated_test/anger animated_test/disgust animated_test/fear animated_test/joy animated_test/sadness animated_test/surprise animated_test/neutral"
      ],
      "execution_count": null,
      "outputs": []
    },
    {
      "cell_type": "markdown",
      "metadata": {
        "id": "WyWFgK0E1DQk"
      },
      "source": [
        "Haar cascade classifier for face detection."
      ]
    },
    {
      "cell_type": "code",
      "metadata": {
        "id": "LTXLMwPjZ5pb"
      },
      "source": [
        "face_cascade = cv2.CascadeClassifier('/content/GDrive/My Drive/FER-images/Haar/haarcascade_frontalface_default.xml')"
      ],
      "execution_count": null,
      "outputs": []
    },
    {
      "cell_type": "markdown",
      "metadata": {
        "id": "c7999nog1STP"
      },
      "source": [
        "Pre-processing images "
      ]
    },
    {
      "cell_type": "code",
      "metadata": {
        "id": "5Abawf5xZJNX"
      },
      "source": [
        "for index,row in df_x_train.iterrows():\r\n",
        "  img=cv2.imread(row['file'])\r\n",
        "  img=img.astype(np.uint8)\r\n",
        "  gray = cv2.cvtColor(img, cv2.COLOR_BGR2GRAY)\r\n",
        "  faces=face_cascade.detectMultiScale(gray,1.3,5)\r\n",
        "  for (x,y,w,h) in faces:\r\n",
        "    face_crop=gray[y:y+h,x:x+w]\r\n",
        "    resized=cv2.resize(face_crop,(48,48),interpolation=cv2.INTER_LINEAR)   \r\n",
        "    cv2.imwrite('/content/animated_train/'+animate_emotions[row['label']]+'/'+row['file_name'],resized)"
      ],
      "execution_count": null,
      "outputs": []
    },
    {
      "cell_type": "code",
      "metadata": {
        "id": "12JG_w5WcSAU"
      },
      "source": [
        "for index,row in df_x_test.iterrows():\r\n",
        "  img=cv2.imread(row['file'])\r\n",
        "  img=img.astype(np.uint8)\r\n",
        "  gray = cv2.cvtColor(img, cv2.COLOR_BGR2GRAY)\r\n",
        "  faces=face_cascade.detectMultiScale(gray,1.3,5)\r\n",
        "  for (x,y,w,h) in faces:\r\n",
        "    face_crop=gray[y:y+h,x:x+w]\r\n",
        "    resized=cv2.resize(face_crop,(48,48),interpolation=cv2.INTER_LINEAR)   \r\n",
        "    cv2.imwrite('/content/animated_test/'+animate_emotions[row['label']]+'/'+row['file_name'],resized)"
      ],
      "execution_count": null,
      "outputs": []
    },
    {
      "cell_type": "code",
      "metadata": {
        "colab": {
          "base_uri": "https://localhost:8080/"
        },
        "id": "qiTv1CkmDa4a",
        "outputId": "c0af9623-aafe-4a4f-e75d-5109579062a0"
      },
      "source": [
        "!ls -1 animated_train/* | wc -l\r\n",
        "!ls -1 animated_train/anger | wc -l\r\n",
        "!ls -1 animated_train/disgust | wc -l\r\n",
        "!ls -1 animated_train/fear | wc -l\r\n",
        "!ls -1 animated_train/joy | wc -l\r\n",
        "!ls -1 animated_train/sadness | wc -l\r\n",
        "!ls -1 animated_train/surprise | wc -l\r\n",
        "!ls -1 animated_train/neutral | wc -l"
      ],
      "execution_count": null,
      "outputs": [
        {
          "output_type": "stream",
          "text": [
            "34605\n",
            "6662\n",
            "6678\n",
            "1591\n",
            "5188\n",
            "5147\n",
            "4344\n",
            "4982\n"
          ],
          "name": "stdout"
        }
      ]
    },
    {
      "cell_type": "code",
      "metadata": {
        "colab": {
          "base_uri": "https://localhost:8080/"
        },
        "id": "t6-lEiVjckB1",
        "outputId": "15f666cb-cb69-4218-813e-c19dfc658b80"
      },
      "source": [
        "!ls -1 animated_test/* | wc -l\r\n",
        "!ls -1 animated_test/anger | wc -l\r\n",
        "!ls -1 animated_test/disgust | wc -l\r\n",
        "!ls -1 animated_test/fear | wc -l\r\n",
        "!ls -1 animated_test/joy | wc -l\r\n",
        "!ls -1 animated_test/sadness | wc -l\r\n",
        "!ls -1 animated_test/surprise | wc -l\r\n",
        "!ls -1 animated_test/neutral | wc -l"
      ],
      "execution_count": null,
      "outputs": [
        {
          "output_type": "stream",
          "text": [
            "8674\n",
            "1657\n",
            "1676\n",
            "390\n",
            "1369\n",
            "1309\n",
            "1049\n",
            "1211\n"
          ],
          "name": "stdout"
        }
      ]
    },
    {
      "cell_type": "code",
      "metadata": {
        "id": "KenKQOUIFVfc"
      },
      "source": [
        "# %%bash\r\n",
        "\r\n",
        "# (for dir in animated_test\r\n",
        "#     #do rm -rf $dir/*.zip\r\n",
        "#     do pushd $dir && zip -r $dir.zip * && popd\r\n",
        "#  done)"
      ],
      "execution_count": null,
      "outputs": []
    },
    {
      "cell_type": "code",
      "metadata": {
        "id": "sZ4y4I6YFpau"
      },
      "source": [
        "# ! mv animated_test/animated_test.zip '/content'"
      ],
      "execution_count": null,
      "outputs": []
    },
    {
      "cell_type": "code",
      "metadata": {
        "id": "4ERgyplpFyul"
      },
      "source": [
        "# ! cp animated_test.zip '/content/GDrive/My Drive/FER-images/animated_processed_images'"
      ],
      "execution_count": null,
      "outputs": []
    },
    {
      "cell_type": "code",
      "metadata": {
        "id": "rbvF5sPPGSiy"
      },
      "source": [
        "# !rm -rf animated_images"
      ],
      "execution_count": null,
      "outputs": []
    },
    {
      "cell_type": "markdown",
      "metadata": {
        "id": "_tS9ErnF1Z_f"
      },
      "source": [
        "Image-data generator for reading images."
      ]
    },
    {
      "cell_type": "code",
      "metadata": {
        "id": "x-i6Wx_WnDs3"
      },
      "source": [
        "from tensorflow.keras.preprocessing.image import ImageDataGenerator\r\n",
        "BS=32\r\n",
        "def get_datagen(dataset, aug=False):\r\n",
        "    if aug:\r\n",
        "        datagen = ImageDataGenerator(\r\n",
        "                            rescale=1./255,\r\n",
        "                            featurewise_center=False,\r\n",
        "                            featurewise_std_normalization=False,\r\n",
        "                            rotation_range=10,\r\n",
        "                            width_shift_range=0.1,\r\n",
        "                            height_shift_range=0.1,\r\n",
        "                            zoom_range=0.1,\r\n",
        "                            horizontal_flip=True,\r\n",
        "                            validation_split=0.2)\r\n",
        "    else:\r\n",
        "        datagen = ImageDataGenerator(rescale=1./255)\r\n",
        "\r\n",
        "    return datagen  "
      ],
      "execution_count": null,
      "outputs": []
    },
    {
      "cell_type": "code",
      "metadata": {
        "colab": {
          "base_uri": "https://localhost:8080/"
        },
        "id": "FQH4SqEfmuzM",
        "outputId": "7e055d5c-c624-4b33-d24d-43a178e3bdb1"
      },
      "source": [
        "train_datagen=get_datagen('/content/animated_train',True)\r\n",
        "\r\n",
        "train_generator=train_datagen.flow_from_directory(\r\n",
        "            '/content/animated_train',\r\n",
        "            target_size=(48, 48),\r\n",
        "            color_mode='rgb',\r\n",
        "            shuffle = True,\r\n",
        "            class_mode='categorical',\r\n",
        "            batch_size=BS,\r\n",
        "            subset='training')\r\n",
        "dev_generator=train_datagen.flow_from_directory(\r\n",
        "            '/content/animated_train',\r\n",
        "            target_size=(48, 48),\r\n",
        "            color_mode='rgb',\r\n",
        "            shuffle = True,\r\n",
        "            class_mode='categorical',\r\n",
        "            batch_size=BS,\r\n",
        "            subset='validation')\r\n",
        "test_datagen=get_datagen('/content/animated_test',False)\r\n",
        "test_generator=test_datagen.flow_from_directory(\r\n",
        "            '/content/animated_test',\r\n",
        "            target_size=(48, 48),\r\n",
        "            color_mode='rgb',\r\n",
        "            shuffle = True,\r\n",
        "            class_mode='categorical',\r\n",
        "            batch_size=BS)"
      ],
      "execution_count": null,
      "outputs": [
        {
          "output_type": "stream",
          "text": [
            "Found 27677 images belonging to 7 classes.\n",
            "Found 6915 images belonging to 7 classes.\n",
            "Found 8661 images belonging to 7 classes.\n"
          ],
          "name": "stdout"
        }
      ]
    },
    {
      "cell_type": "code",
      "metadata": {
        "colab": {
          "base_uri": "https://localhost:8080/"
        },
        "id": "9-rSuJIProvi",
        "outputId": "07380adf-5156-4fed-e439-b5c773a7b6fd"
      },
      "source": [
        "for image_batch, labels_batch in train_generator:\r\n",
        "  print(image_batch.shape)\r\n",
        "  print(labels_batch.shape)\r\n",
        "  break"
      ],
      "execution_count": null,
      "outputs": [
        {
          "output_type": "stream",
          "text": [
            "(32, 48, 48, 3)\n",
            "(32, 7)\n"
          ],
          "name": "stdout"
        }
      ]
    },
    {
      "cell_type": "markdown",
      "metadata": {
        "id": "GlMrjJ_T1mXo"
      },
      "source": [
        "VGG model training on animated models"
      ]
    },
    {
      "cell_type": "code",
      "metadata": {
        "colab": {
          "base_uri": "https://localhost:8080/"
        },
        "id": "Oe7_HkMJinXq",
        "outputId": "185dd3bd-2b69-41f0-d73c-3d627f2e66e6"
      },
      "source": [
        "my_history=vgg_model.fit(train_generator,\r\n",
        "          steps_per_epoch=train_generator.samples// BS,\r\n",
        "          epochs=20,\r\n",
        "          validation_data=dev_generator,\r\n",
        "          validation_steps=dev_generator.samples // BS)"
      ],
      "execution_count": null,
      "outputs": [
        {
          "output_type": "stream",
          "text": [
            "Epoch 1/20\n",
            "864/864 [==============================] - 52s 51ms/step - loss: 0.9997 - accuracy: 0.5850 - val_loss: 0.2604 - val_accuracy: 0.9171\n",
            "Epoch 2/20\n",
            "864/864 [==============================] - 43s 49ms/step - loss: 0.0511 - accuracy: 0.9868 - val_loss: 0.2722 - val_accuracy: 0.9489\n",
            "Epoch 3/20\n",
            "864/864 [==============================] - 43s 49ms/step - loss: 0.0216 - accuracy: 0.9945 - val_loss: 0.2552 - val_accuracy: 0.9369\n",
            "Epoch 4/20\n",
            "864/864 [==============================] - 43s 49ms/step - loss: 0.0134 - accuracy: 0.9968 - val_loss: 0.3295 - val_accuracy: 0.9303\n",
            "Epoch 5/20\n",
            "864/864 [==============================] - 42s 49ms/step - loss: 0.0103 - accuracy: 0.9979 - val_loss: 0.1945 - val_accuracy: 0.9599\n",
            "Epoch 6/20\n",
            "864/864 [==============================] - 43s 49ms/step - loss: 0.0129 - accuracy: 0.9973 - val_loss: 0.2026 - val_accuracy: 0.9549\n",
            "Epoch 7/20\n",
            "864/864 [==============================] - 42s 49ms/step - loss: 0.0081 - accuracy: 0.9980 - val_loss: 0.2938 - val_accuracy: 0.9491\n",
            "Epoch 8/20\n",
            "864/864 [==============================] - 42s 49ms/step - loss: 0.0084 - accuracy: 0.9980 - val_loss: 0.2243 - val_accuracy: 0.9536\n",
            "Epoch 9/20\n",
            "864/864 [==============================] - 42s 49ms/step - loss: 0.0043 - accuracy: 0.9990 - val_loss: 0.4101 - val_accuracy: 0.9330\n",
            "Epoch 10/20\n",
            "864/864 [==============================] - 42s 49ms/step - loss: 0.0087 - accuracy: 0.9978 - val_loss: 0.2433 - val_accuracy: 0.9569\n",
            "Epoch 11/20\n",
            "864/864 [==============================] - 42s 49ms/step - loss: 0.0041 - accuracy: 0.9990 - val_loss: 0.4196 - val_accuracy: 0.9515\n",
            "Epoch 12/20\n",
            "864/864 [==============================] - 42s 49ms/step - loss: 0.0031 - accuracy: 0.9995 - val_loss: 0.4305 - val_accuracy: 0.9541\n",
            "Epoch 13/20\n",
            "864/864 [==============================] - 42s 49ms/step - loss: 0.0031 - accuracy: 0.9995 - val_loss: 0.6946 - val_accuracy: 0.9408\n",
            "Epoch 14/20\n",
            "864/864 [==============================] - 42s 49ms/step - loss: 0.0048 - accuracy: 0.9990 - val_loss: 0.2523 - val_accuracy: 0.9599\n",
            "Epoch 15/20\n",
            "864/864 [==============================] - 42s 49ms/step - loss: 9.5411e-04 - accuracy: 0.9997 - val_loss: 0.3502 - val_accuracy: 0.9434\n",
            "Epoch 16/20\n",
            "864/864 [==============================] - 42s 49ms/step - loss: 0.0083 - accuracy: 0.9991 - val_loss: 0.4343 - val_accuracy: 0.9596\n",
            "Epoch 17/20\n",
            "864/864 [==============================] - 42s 49ms/step - loss: 0.0057 - accuracy: 0.9986 - val_loss: 0.5597 - val_accuracy: 0.9604\n",
            "Epoch 18/20\n",
            "864/864 [==============================] - 42s 49ms/step - loss: 0.0029 - accuracy: 0.9993 - val_loss: 0.4596 - val_accuracy: 0.9468\n",
            "Epoch 19/20\n",
            "864/864 [==============================] - 42s 49ms/step - loss: 0.0046 - accuracy: 0.9990 - val_loss: 0.6534 - val_accuracy: 0.9491\n",
            "Epoch 20/20\n",
            "864/864 [==============================] - 42s 49ms/step - loss: 0.0031 - accuracy: 0.9995 - val_loss: 0.3609 - val_accuracy: 0.9521\n"
          ],
          "name": "stdout"
        }
      ]
    },
    {
      "cell_type": "code",
      "metadata": {
        "colab": {
          "base_uri": "https://localhost:8080/"
        },
        "id": "RP4TXwfelYcy",
        "outputId": "dcf45382-17b6-4f87-dde3-f50681561ce7"
      },
      "source": [
        "vgg_model.evaluate(test_generator)"
      ],
      "execution_count": null,
      "outputs": [
        {
          "output_type": "stream",
          "text": [
            "271/271 [==============================] - 4s 13ms/step - loss: 0.1037 - accuracy: 0.9873\n"
          ],
          "name": "stdout"
        },
        {
          "output_type": "execute_result",
          "data": {
            "text/plain": [
              "[0.10365729033946991, 0.987299382686615]"
            ]
          },
          "metadata": {
            "tags": []
          },
          "execution_count": 29
        }
      ]
    },
    {
      "cell_type": "code",
      "metadata": {
        "id": "EPXANODOlnIZ"
      },
      "source": [
        "vgg_model.save_weights('/content/GDrive/My Drive/vgg_freeze_animated_model_weights.h5')"
      ],
      "execution_count": null,
      "outputs": []
    },
    {
      "cell_type": "code",
      "metadata": {
        "id": "MnuHWRBsliyr"
      },
      "source": [
        "vgg_model.save('/content/GDrive/My Drive/vgg_freeze_animated_model.h5')"
      ],
      "execution_count": null,
      "outputs": []
    },
    {
      "cell_type": "markdown",
      "metadata": {
        "id": "SelnbxuX1je7"
      },
      "source": [
        "CNN classifier"
      ]
    },
    {
      "cell_type": "code",
      "metadata": {
        "id": "G4UWjPbQmTyi"
      },
      "source": [
        "my_model=Sequential()\r\n",
        "my_model.add(Conv2D(64,(3,3),activation='relu',input_shape=(48,48,3),kernel_regularizer=l2(0.01)))\r\n",
        "my_model.add(Conv2D(64,(3,3),activation='relu', padding='same'))\r\n",
        "my_model.add(BatchNormalization())\r\n",
        "my_model.add(MaxPool2D((2,2),strides=(2,2)))\r\n",
        "my_model.add(Dropout(0.25))\r\n",
        "my_model.add(Conv2D(128,(3,3),activation='relu'))\r\n",
        "my_model.add(BatchNormalization())\r\n",
        "my_model.add(Conv2D(128,(3,3),activation='relu',padding='same'))\r\n",
        "my_model.add(BatchNormalization())\r\n",
        "my_model.add(MaxPool2D((2,2),strides=(2,2)))\r\n",
        "my_model.add(Dropout(0.35))\r\n",
        "my_model.add(Conv2D(256,(3,3),activation='relu'))\r\n",
        "my_model.add(BatchNormalization())\r\n",
        "my_model.add(Conv2D(256,(3,3),activation='relu',padding='same'))\r\n",
        "my_model.add(BatchNormalization())\r\n",
        "my_model.add(MaxPool2D((2,2),strides=(2,2)))\r\n",
        "my_model.add(Dropout(0.5))\r\n",
        "my_model.add(Flatten())\r\n",
        "my_model.add(Dense(1024,activation='relu')) \r\n",
        "my_model.add(Dropout(0.5))\r\n",
        "my_model.add(Dense(512,activation='relu')) \r\n",
        "my_model.add(Dropout(0.25))\r\n",
        "my_model.add(Dense(256,activation='relu')) \r\n",
        "my_model.add(Dropout(0.25))\r\n",
        "my_model.add(Dense(64,activation='relu')) \r\n",
        "my_model.add(Dense(7,activation='softmax'))"
      ],
      "execution_count": null,
      "outputs": []
    },
    {
      "cell_type": "code",
      "metadata": {
        "colab": {
          "base_uri": "https://localhost:8080/"
        },
        "id": "y8--kXkYmoGp",
        "outputId": "40a73139-edf5-43b2-d1fe-4d16dc89b381"
      },
      "source": [
        "my_model.summary()"
      ],
      "execution_count": null,
      "outputs": [
        {
          "output_type": "stream",
          "text": [
            "Model: \"sequential_1\"\n",
            "_________________________________________________________________\n",
            "Layer (type)                 Output Shape              Param #   \n",
            "=================================================================\n",
            "conv2d_6 (Conv2D)            (None, 46, 46, 64)        1792      \n",
            "_________________________________________________________________\n",
            "conv2d_7 (Conv2D)            (None, 46, 46, 64)        36928     \n",
            "_________________________________________________________________\n",
            "batch_normalization_5 (Batch (None, 46, 46, 64)        256       \n",
            "_________________________________________________________________\n",
            "max_pooling2d_3 (MaxPooling2 (None, 23, 23, 64)        0         \n",
            "_________________________________________________________________\n",
            "dropout_10 (Dropout)         (None, 23, 23, 64)        0         \n",
            "_________________________________________________________________\n",
            "conv2d_8 (Conv2D)            (None, 21, 21, 128)       73856     \n",
            "_________________________________________________________________\n",
            "batch_normalization_6 (Batch (None, 21, 21, 128)       512       \n",
            "_________________________________________________________________\n",
            "conv2d_9 (Conv2D)            (None, 21, 21, 128)       147584    \n",
            "_________________________________________________________________\n",
            "batch_normalization_7 (Batch (None, 21, 21, 128)       512       \n",
            "_________________________________________________________________\n",
            "max_pooling2d_4 (MaxPooling2 (None, 10, 10, 128)       0         \n",
            "_________________________________________________________________\n",
            "dropout_11 (Dropout)         (None, 10, 10, 128)       0         \n",
            "_________________________________________________________________\n",
            "conv2d_10 (Conv2D)           (None, 8, 8, 256)         295168    \n",
            "_________________________________________________________________\n",
            "batch_normalization_8 (Batch (None, 8, 8, 256)         1024      \n",
            "_________________________________________________________________\n",
            "conv2d_11 (Conv2D)           (None, 8, 8, 256)         590080    \n",
            "_________________________________________________________________\n",
            "batch_normalization_9 (Batch (None, 8, 8, 256)         1024      \n",
            "_________________________________________________________________\n",
            "max_pooling2d_5 (MaxPooling2 (None, 4, 4, 256)         0         \n",
            "_________________________________________________________________\n",
            "dropout_12 (Dropout)         (None, 4, 4, 256)         0         \n",
            "_________________________________________________________________\n",
            "flatten_3 (Flatten)          (None, 4096)              0         \n",
            "_________________________________________________________________\n",
            "dense_15 (Dense)             (None, 1024)              4195328   \n",
            "_________________________________________________________________\n",
            "dropout_13 (Dropout)         (None, 1024)              0         \n",
            "_________________________________________________________________\n",
            "dense_16 (Dense)             (None, 512)               524800    \n",
            "_________________________________________________________________\n",
            "dropout_14 (Dropout)         (None, 512)               0         \n",
            "_________________________________________________________________\n",
            "dense_17 (Dense)             (None, 256)               131328    \n",
            "_________________________________________________________________\n",
            "dropout_15 (Dropout)         (None, 256)               0         \n",
            "_________________________________________________________________\n",
            "dense_18 (Dense)             (None, 64)                16448     \n",
            "_________________________________________________________________\n",
            "dense_19 (Dense)             (None, 7)                 455       \n",
            "=================================================================\n",
            "Total params: 6,017,095\n",
            "Trainable params: 6,015,431\n",
            "Non-trainable params: 1,664\n",
            "_________________________________________________________________\n"
          ],
          "name": "stdout"
        }
      ]
    },
    {
      "cell_type": "code",
      "metadata": {
        "id": "gmGpNSS6mrBv"
      },
      "source": [
        "adam = keras.optimizers.Adam(lr=0.001, beta_1=0.9, beta_2=0.999, epsilon=1e-7)\r\n",
        "my_model.compile(optimizer = adam, loss = 'categorical_crossentropy', metrics = ['accuracy'])"
      ],
      "execution_count": null,
      "outputs": []
    },
    {
      "cell_type": "markdown",
      "metadata": {
        "id": "dRvPREsC1tMr"
      },
      "source": [
        "CNN model training on animated data."
      ]
    },
    {
      "cell_type": "code",
      "metadata": {
        "colab": {
          "base_uri": "https://localhost:8080/"
        },
        "id": "54UxozaVnGr5",
        "outputId": "771d2c7a-2dd4-44e9-8bb0-712a4aeb9cbc"
      },
      "source": [
        "my_history1=my_model.fit(train_generator,\r\n",
        "          steps_per_epoch=train_generator.samples// BS,\r\n",
        "          epochs=20,\r\n",
        "          validation_data=dev_generator,\r\n",
        "          validation_steps=dev_generator.samples // BS)"
      ],
      "execution_count": null,
      "outputs": [
        {
          "output_type": "stream",
          "text": [
            "Epoch 1/20\n",
            "864/864 [==============================] - 40s 45ms/step - loss: 1.7407 - accuracy: 0.3661 - val_loss: 1.3585 - val_accuracy: 0.5618\n",
            "Epoch 2/20\n",
            "864/864 [==============================] - 38s 44ms/step - loss: 0.2652 - accuracy: 0.9272 - val_loss: 1.3670 - val_accuracy: 0.7004\n",
            "Epoch 3/20\n",
            "864/864 [==============================] - 38s 44ms/step - loss: 0.1336 - accuracy: 0.9671 - val_loss: 0.4940 - val_accuracy: 0.8756\n",
            "Epoch 4/20\n",
            "864/864 [==============================] - 38s 44ms/step - loss: 0.0940 - accuracy: 0.9790 - val_loss: 0.9166 - val_accuracy: 0.7872\n",
            "Epoch 5/20\n",
            "864/864 [==============================] - 38s 44ms/step - loss: 0.0738 - accuracy: 0.9851 - val_loss: 0.5184 - val_accuracy: 0.8791\n",
            "Epoch 6/20\n",
            "864/864 [==============================] - 38s 44ms/step - loss: 0.0692 - accuracy: 0.9866 - val_loss: 0.3425 - val_accuracy: 0.9210\n",
            "Epoch 7/20\n",
            "864/864 [==============================] - 38s 44ms/step - loss: 0.0548 - accuracy: 0.9903 - val_loss: 0.5678 - val_accuracy: 0.8715\n",
            "Epoch 8/20\n",
            "864/864 [==============================] - 38s 44ms/step - loss: 0.0550 - accuracy: 0.9888 - val_loss: 0.3936 - val_accuracy: 0.9207\n",
            "Epoch 9/20\n",
            "864/864 [==============================] - 38s 44ms/step - loss: 0.0478 - accuracy: 0.9909 - val_loss: 0.2458 - val_accuracy: 0.9552\n",
            "Epoch 10/20\n",
            "864/864 [==============================] - 38s 45ms/step - loss: 0.0413 - accuracy: 0.9920 - val_loss: 0.2022 - val_accuracy: 0.9473\n",
            "Epoch 11/20\n",
            "864/864 [==============================] - 38s 44ms/step - loss: 0.0474 - accuracy: 0.9912 - val_loss: 0.7820 - val_accuracy: 0.8977\n",
            "Epoch 12/20\n",
            "864/864 [==============================] - 38s 44ms/step - loss: 0.0671 - accuracy: 0.9906 - val_loss: 0.3012 - val_accuracy: 0.9340\n",
            "Epoch 13/20\n",
            "864/864 [==============================] - 38s 44ms/step - loss: 0.0472 - accuracy: 0.9907 - val_loss: 1.7096 - val_accuracy: 0.7065\n",
            "Epoch 14/20\n",
            "864/864 [==============================] - 38s 44ms/step - loss: 0.0336 - accuracy: 0.9942 - val_loss: 0.5435 - val_accuracy: 0.9201\n",
            "Epoch 15/20\n",
            "864/864 [==============================] - 38s 44ms/step - loss: 0.0487 - accuracy: 0.9921 - val_loss: 0.6059 - val_accuracy: 0.9248\n",
            "Epoch 16/20\n",
            "864/864 [==============================] - 38s 44ms/step - loss: 0.0422 - accuracy: 0.9928 - val_loss: 0.3553 - val_accuracy: 0.9281\n",
            "Epoch 17/20\n",
            "864/864 [==============================] - 38s 44ms/step - loss: 0.0398 - accuracy: 0.9945 - val_loss: 0.5707 - val_accuracy: 0.9185\n",
            "Epoch 18/20\n",
            "864/864 [==============================] - 39s 45ms/step - loss: 0.0339 - accuracy: 0.9943 - val_loss: 0.4392 - val_accuracy: 0.9408\n",
            "Epoch 19/20\n",
            "864/864 [==============================] - 38s 44ms/step - loss: 0.0467 - accuracy: 0.9936 - val_loss: 0.9387 - val_accuracy: 0.8786\n",
            "Epoch 20/20\n",
            "864/864 [==============================] - 38s 44ms/step - loss: 0.0252 - accuracy: 0.9954 - val_loss: 0.3302 - val_accuracy: 0.9524\n"
          ],
          "name": "stdout"
        }
      ]
    },
    {
      "cell_type": "code",
      "metadata": {
        "colab": {
          "base_uri": "https://localhost:8080/"
        },
        "id": "agpmFCouwpQn",
        "outputId": "ce0a676d-47b2-4c9d-89c1-74b86cf0f376"
      },
      "source": [
        "my_model.evaluate(test_generator)"
      ],
      "execution_count": null,
      "outputs": [
        {
          "output_type": "stream",
          "text": [
            "271/271 [==============================] - 3s 11ms/step - loss: 0.0561 - accuracy: 0.9936\n"
          ],
          "name": "stdout"
        },
        {
          "output_type": "execute_result",
          "data": {
            "text/plain": [
              "[0.05607219785451889, 0.9936497211456299]"
            ]
          },
          "metadata": {
            "tags": []
          },
          "execution_count": 34
        }
      ]
    },
    {
      "cell_type": "code",
      "metadata": {
        "id": "lcdSDsfXw9ix"
      },
      "source": [
        "my_model.save('/content/GDrive/My Drive/my_animated_model.h5')"
      ],
      "execution_count": null,
      "outputs": []
    },
    {
      "cell_type": "code",
      "metadata": {
        "id": "NGg1rmt3JFm2"
      },
      "source": [
        "my_model.save_weights('/content/GDrive/My Drive/my_animated_model_weights.h5')"
      ],
      "execution_count": null,
      "outputs": []
    },
    {
      "cell_type": "markdown",
      "metadata": {
        "id": "rvnXX2b41zES"
      },
      "source": [
        "CNN model training on FER dataset"
      ]
    },
    {
      "cell_type": "code",
      "metadata": {
        "colab": {
          "base_uri": "https://localhost:8080/"
        },
        "id": "edgjuAgyZRmC",
        "outputId": "d4fa7740-965c-4d6f-b37e-00cb6a4931e4"
      },
      "source": [
        "history1=my_model.fit(fer_x_train,fer_y_train,\r\n",
        "          batch_size=128,\r\n",
        "          epochs=100,\r\n",
        "          verbose=1,\r\n",
        "          validation_data=(fer_x_valid, fer_y_valid))"
      ],
      "execution_count": null,
      "outputs": [
        {
          "output_type": "stream",
          "text": [
            "Epoch 1/100\n",
            "303/303 [==============================] - 18s 56ms/step - loss: 2.0263 - accuracy: 0.2189 - val_loss: 1.8232 - val_accuracy: 0.2527\n",
            "Epoch 2/100\n",
            "303/303 [==============================] - 17s 56ms/step - loss: 1.7068 - accuracy: 0.3292 - val_loss: 1.5693 - val_accuracy: 0.3678\n",
            "Epoch 3/100\n",
            "303/303 [==============================] - 17s 55ms/step - loss: 1.4788 - accuracy: 0.4159 - val_loss: 1.4951 - val_accuracy: 0.4232\n",
            "Epoch 4/100\n",
            "303/303 [==============================] - 16s 54ms/step - loss: 1.3491 - accuracy: 0.4784 - val_loss: 1.5384 - val_accuracy: 0.4366\n",
            "Epoch 5/100\n",
            "303/303 [==============================] - 16s 54ms/step - loss: 1.2439 - accuracy: 0.5249 - val_loss: 1.2214 - val_accuracy: 0.5411\n",
            "Epoch 6/100\n",
            "303/303 [==============================] - 16s 54ms/step - loss: 1.1795 - accuracy: 0.5529 - val_loss: 1.1999 - val_accuracy: 0.5500\n",
            "Epoch 7/100\n",
            "303/303 [==============================] - 16s 54ms/step - loss: 1.1352 - accuracy: 0.5688 - val_loss: 1.1746 - val_accuracy: 0.5600\n",
            "Epoch 8/100\n",
            "303/303 [==============================] - 16s 54ms/step - loss: 1.0988 - accuracy: 0.5810 - val_loss: 1.4195 - val_accuracy: 0.4645\n",
            "Epoch 9/100\n",
            "303/303 [==============================] - 16s 54ms/step - loss: 1.0591 - accuracy: 0.6050 - val_loss: 1.1736 - val_accuracy: 0.5840\n",
            "Epoch 10/100\n",
            "303/303 [==============================] - 16s 54ms/step - loss: 1.0235 - accuracy: 0.6130 - val_loss: 1.2202 - val_accuracy: 0.5559\n",
            "Epoch 11/100\n",
            "303/303 [==============================] - 16s 54ms/step - loss: 0.9699 - accuracy: 0.6388 - val_loss: 1.1559 - val_accuracy: 0.5676\n",
            "Epoch 12/100\n",
            "303/303 [==============================] - 16s 54ms/step - loss: 0.9344 - accuracy: 0.6527 - val_loss: 1.2106 - val_accuracy: 0.5539\n",
            "Epoch 13/100\n",
            "303/303 [==============================] - 16s 54ms/step - loss: 0.8962 - accuracy: 0.6712 - val_loss: 1.1371 - val_accuracy: 0.5656\n",
            "Epoch 14/100\n",
            "303/303 [==============================] - 16s 54ms/step - loss: 0.8574 - accuracy: 0.6854 - val_loss: 1.1660 - val_accuracy: 0.5854\n",
            "Epoch 15/100\n",
            "303/303 [==============================] - 16s 54ms/step - loss: 0.8286 - accuracy: 0.6933 - val_loss: 1.1106 - val_accuracy: 0.6144\n",
            "Epoch 16/100\n",
            "303/303 [==============================] - 16s 54ms/step - loss: 0.7998 - accuracy: 0.7081 - val_loss: 1.0764 - val_accuracy: 0.6174\n",
            "Epoch 17/100\n",
            "303/303 [==============================] - 16s 54ms/step - loss: 0.7705 - accuracy: 0.7152 - val_loss: 1.1771 - val_accuracy: 0.6007\n",
            "Epoch 18/100\n",
            "303/303 [==============================] - 16s 54ms/step - loss: 0.7391 - accuracy: 0.7278 - val_loss: 1.0822 - val_accuracy: 0.6236\n",
            "Epoch 19/100\n",
            "303/303 [==============================] - 16s 54ms/step - loss: 0.7163 - accuracy: 0.7390 - val_loss: 1.0580 - val_accuracy: 0.6297\n",
            "Epoch 20/100\n",
            "303/303 [==============================] - 16s 54ms/step - loss: 0.6903 - accuracy: 0.7514 - val_loss: 1.1223 - val_accuracy: 0.6244\n",
            "Epoch 21/100\n",
            "303/303 [==============================] - 16s 54ms/step - loss: 0.6714 - accuracy: 0.7566 - val_loss: 1.0815 - val_accuracy: 0.6339\n",
            "Epoch 22/100\n",
            "303/303 [==============================] - 16s 54ms/step - loss: 0.6417 - accuracy: 0.7641 - val_loss: 1.1232 - val_accuracy: 0.6233\n",
            "Epoch 23/100\n",
            "303/303 [==============================] - 16s 54ms/step - loss: 0.6186 - accuracy: 0.7742 - val_loss: 1.0997 - val_accuracy: 0.6392\n",
            "Epoch 24/100\n",
            "303/303 [==============================] - 16s 54ms/step - loss: 0.6024 - accuracy: 0.7824 - val_loss: 1.1452 - val_accuracy: 0.6339\n",
            "Epoch 25/100\n",
            "303/303 [==============================] - 16s 54ms/step - loss: 0.5788 - accuracy: 0.7942 - val_loss: 1.0997 - val_accuracy: 0.6317\n",
            "Epoch 26/100\n",
            "303/303 [==============================] - 16s 54ms/step - loss: 0.5611 - accuracy: 0.7985 - val_loss: 1.1257 - val_accuracy: 0.6350\n",
            "Epoch 27/100\n",
            "303/303 [==============================] - 16s 54ms/step - loss: 0.5473 - accuracy: 0.8050 - val_loss: 1.1173 - val_accuracy: 0.6395\n",
            "Epoch 28/100\n",
            "303/303 [==============================] - 17s 55ms/step - loss: 0.5252 - accuracy: 0.8126 - val_loss: 1.1842 - val_accuracy: 0.6358\n",
            "Epoch 29/100\n",
            "303/303 [==============================] - 16s 54ms/step - loss: 0.5071 - accuracy: 0.8199 - val_loss: 1.0692 - val_accuracy: 0.6537\n",
            "Epoch 30/100\n",
            "303/303 [==============================] - 16s 54ms/step - loss: 0.5079 - accuracy: 0.8229 - val_loss: 1.1896 - val_accuracy: 0.6289\n",
            "Epoch 31/100\n",
            "303/303 [==============================] - 16s 54ms/step - loss: 0.4916 - accuracy: 0.8261 - val_loss: 1.1775 - val_accuracy: 0.6406\n",
            "Epoch 32/100\n",
            "303/303 [==============================] - 17s 55ms/step - loss: 0.4745 - accuracy: 0.8304 - val_loss: 1.2430 - val_accuracy: 0.6414\n",
            "Epoch 33/100\n",
            "303/303 [==============================] - 16s 54ms/step - loss: 0.4652 - accuracy: 0.8357 - val_loss: 1.2286 - val_accuracy: 0.6464\n",
            "Epoch 34/100\n",
            "303/303 [==============================] - 16s 54ms/step - loss: 0.4448 - accuracy: 0.8429 - val_loss: 1.2705 - val_accuracy: 0.6205\n",
            "Epoch 35/100\n",
            "303/303 [==============================] - 16s 54ms/step - loss: 0.4343 - accuracy: 0.8499 - val_loss: 1.2257 - val_accuracy: 0.6395\n",
            "Epoch 36/100\n",
            "303/303 [==============================] - 16s 54ms/step - loss: 0.4294 - accuracy: 0.8544 - val_loss: 1.1751 - val_accuracy: 0.6539\n",
            "Epoch 37/100\n",
            "303/303 [==============================] - 16s 54ms/step - loss: 0.4069 - accuracy: 0.8606 - val_loss: 1.2320 - val_accuracy: 0.6319\n",
            "Epoch 38/100\n",
            "303/303 [==============================] - 16s 54ms/step - loss: 0.4040 - accuracy: 0.8612 - val_loss: 1.1896 - val_accuracy: 0.6634\n",
            "Epoch 39/100\n",
            "303/303 [==============================] - 16s 54ms/step - loss: 0.3901 - accuracy: 0.8653 - val_loss: 1.2935 - val_accuracy: 0.6408\n",
            "Epoch 40/100\n",
            "303/303 [==============================] - 16s 54ms/step - loss: 0.3878 - accuracy: 0.8695 - val_loss: 1.2238 - val_accuracy: 0.6570\n",
            "Epoch 41/100\n",
            "303/303 [==============================] - 16s 54ms/step - loss: 0.3642 - accuracy: 0.8751 - val_loss: 1.3481 - val_accuracy: 0.6420\n",
            "Epoch 42/100\n",
            "303/303 [==============================] - 16s 54ms/step - loss: 0.3653 - accuracy: 0.8748 - val_loss: 1.1832 - val_accuracy: 0.6534\n",
            "Epoch 43/100\n",
            "303/303 [==============================] - 16s 54ms/step - loss: 0.3615 - accuracy: 0.8758 - val_loss: 1.2694 - val_accuracy: 0.6484\n",
            "Epoch 44/100\n",
            "303/303 [==============================] - 16s 54ms/step - loss: 0.3537 - accuracy: 0.8815 - val_loss: 1.2552 - val_accuracy: 0.6604\n",
            "Epoch 45/100\n",
            "303/303 [==============================] - 16s 54ms/step - loss: 0.3506 - accuracy: 0.8803 - val_loss: 1.1945 - val_accuracy: 0.6567\n",
            "Epoch 46/100\n",
            "303/303 [==============================] - 16s 54ms/step - loss: 0.3545 - accuracy: 0.8813 - val_loss: 1.3874 - val_accuracy: 0.6392\n",
            "Epoch 47/100\n",
            "303/303 [==============================] - 16s 54ms/step - loss: 0.3392 - accuracy: 0.8846 - val_loss: 1.2967 - val_accuracy: 0.6461\n",
            "Epoch 48/100\n",
            "303/303 [==============================] - 16s 54ms/step - loss: 0.3247 - accuracy: 0.8887 - val_loss: 1.2961 - val_accuracy: 0.6553\n",
            "Epoch 49/100\n",
            "303/303 [==============================] - 16s 54ms/step - loss: 0.3304 - accuracy: 0.8886 - val_loss: 1.2522 - val_accuracy: 0.6498\n",
            "Epoch 50/100\n",
            "303/303 [==============================] - 16s 54ms/step - loss: 0.3240 - accuracy: 0.8912 - val_loss: 1.2670 - val_accuracy: 0.6470\n",
            "Epoch 51/100\n",
            "303/303 [==============================] - 16s 54ms/step - loss: 0.3024 - accuracy: 0.8969 - val_loss: 1.2389 - val_accuracy: 0.6411\n",
            "Epoch 52/100\n",
            "303/303 [==============================] - 16s 54ms/step - loss: 0.3119 - accuracy: 0.8959 - val_loss: 1.3376 - val_accuracy: 0.6514\n",
            "Epoch 53/100\n",
            "303/303 [==============================] - 16s 54ms/step - loss: 0.3045 - accuracy: 0.8989 - val_loss: 1.3340 - val_accuracy: 0.6506\n",
            "Epoch 54/100\n",
            "303/303 [==============================] - 16s 54ms/step - loss: 0.3129 - accuracy: 0.8945 - val_loss: 1.2562 - val_accuracy: 0.6478\n",
            "Epoch 55/100\n",
            "303/303 [==============================] - 16s 54ms/step - loss: 0.2994 - accuracy: 0.8992 - val_loss: 1.3297 - val_accuracy: 0.6484\n",
            "Epoch 56/100\n",
            "303/303 [==============================] - 16s 54ms/step - loss: 0.2883 - accuracy: 0.9048 - val_loss: 1.3420 - val_accuracy: 0.6606\n",
            "Epoch 57/100\n",
            "303/303 [==============================] - 16s 54ms/step - loss: 0.3012 - accuracy: 0.8988 - val_loss: 1.3351 - val_accuracy: 0.6272\n",
            "Epoch 58/100\n",
            "303/303 [==============================] - 16s 54ms/step - loss: 0.2826 - accuracy: 0.9066 - val_loss: 1.3551 - val_accuracy: 0.6615\n",
            "Epoch 59/100\n",
            "303/303 [==============================] - 16s 54ms/step - loss: 0.2842 - accuracy: 0.9052 - val_loss: 1.3014 - val_accuracy: 0.6500\n",
            "Epoch 60/100\n",
            "303/303 [==============================] - 16s 54ms/step - loss: 0.2792 - accuracy: 0.9065 - val_loss: 1.3184 - val_accuracy: 0.6386\n",
            "Epoch 61/100\n",
            "303/303 [==============================] - 16s 54ms/step - loss: 0.2820 - accuracy: 0.9067 - val_loss: 1.3272 - val_accuracy: 0.6606\n",
            "Epoch 62/100\n",
            "303/303 [==============================] - 16s 54ms/step - loss: 0.2682 - accuracy: 0.9127 - val_loss: 1.2682 - val_accuracy: 0.6509\n",
            "Epoch 63/100\n",
            "303/303 [==============================] - 16s 54ms/step - loss: 0.2728 - accuracy: 0.9094 - val_loss: 1.2762 - val_accuracy: 0.6534\n",
            "Epoch 64/100\n",
            "303/303 [==============================] - 16s 54ms/step - loss: 0.2559 - accuracy: 0.9179 - val_loss: 1.3202 - val_accuracy: 0.6498\n",
            "Epoch 65/100\n",
            "303/303 [==============================] - 16s 54ms/step - loss: 0.2559 - accuracy: 0.9146 - val_loss: 1.2725 - val_accuracy: 0.6562\n",
            "Epoch 66/100\n",
            "303/303 [==============================] - 16s 54ms/step - loss: 0.2544 - accuracy: 0.9173 - val_loss: 1.3741 - val_accuracy: 0.6450\n",
            "Epoch 67/100\n",
            "303/303 [==============================] - 16s 54ms/step - loss: 0.2565 - accuracy: 0.9164 - val_loss: 1.3081 - val_accuracy: 0.6609\n",
            "Epoch 68/100\n",
            "303/303 [==============================] - 16s 54ms/step - loss: 0.2483 - accuracy: 0.9188 - val_loss: 1.3710 - val_accuracy: 0.6523\n",
            "Epoch 69/100\n",
            "303/303 [==============================] - 16s 54ms/step - loss: 0.2524 - accuracy: 0.9185 - val_loss: 1.2715 - val_accuracy: 0.6567\n",
            "Epoch 70/100\n",
            "303/303 [==============================] - 16s 54ms/step - loss: 0.2326 - accuracy: 0.9238 - val_loss: 1.3289 - val_accuracy: 0.6537\n",
            "Epoch 71/100\n",
            "303/303 [==============================] - 16s 54ms/step - loss: 0.2433 - accuracy: 0.9246 - val_loss: 1.3739 - val_accuracy: 0.6534\n",
            "Epoch 72/100\n",
            "303/303 [==============================] - 16s 54ms/step - loss: 0.2457 - accuracy: 0.9220 - val_loss: 1.2921 - val_accuracy: 0.6556\n",
            "Epoch 73/100\n",
            "303/303 [==============================] - 16s 54ms/step - loss: 0.2353 - accuracy: 0.9233 - val_loss: 1.3275 - val_accuracy: 0.6548\n",
            "Epoch 74/100\n",
            "303/303 [==============================] - 17s 54ms/step - loss: 0.2314 - accuracy: 0.9247 - val_loss: 1.2856 - val_accuracy: 0.6553\n",
            "Epoch 75/100\n",
            "303/303 [==============================] - 16s 54ms/step - loss: 0.2375 - accuracy: 0.9244 - val_loss: 1.5912 - val_accuracy: 0.6364\n",
            "Epoch 76/100\n",
            "303/303 [==============================] - 16s 54ms/step - loss: 0.2361 - accuracy: 0.9236 - val_loss: 1.4323 - val_accuracy: 0.6436\n",
            "Epoch 77/100\n",
            "303/303 [==============================] - 16s 54ms/step - loss: 0.2244 - accuracy: 0.9285 - val_loss: 1.3761 - val_accuracy: 0.6503\n",
            "Epoch 78/100\n",
            "303/303 [==============================] - 16s 54ms/step - loss: 0.2300 - accuracy: 0.9257 - val_loss: 1.3981 - val_accuracy: 0.6570\n",
            "Epoch 79/100\n",
            "303/303 [==============================] - 16s 54ms/step - loss: 0.2224 - accuracy: 0.9308 - val_loss: 1.4328 - val_accuracy: 0.6473\n",
            "Epoch 80/100\n",
            "303/303 [==============================] - 16s 54ms/step - loss: 0.2245 - accuracy: 0.9290 - val_loss: 1.4273 - val_accuracy: 0.6383\n",
            "Epoch 81/100\n",
            "303/303 [==============================] - 16s 54ms/step - loss: 0.2287 - accuracy: 0.9265 - val_loss: 1.4100 - val_accuracy: 0.6459\n",
            "Epoch 82/100\n",
            "303/303 [==============================] - 16s 54ms/step - loss: 0.2253 - accuracy: 0.9283 - val_loss: 1.3819 - val_accuracy: 0.6447\n",
            "Epoch 83/100\n",
            "303/303 [==============================] - 17s 55ms/step - loss: 0.2315 - accuracy: 0.9275 - val_loss: 1.3784 - val_accuracy: 0.6350\n",
            "Epoch 84/100\n",
            "303/303 [==============================] - 16s 54ms/step - loss: 0.2234 - accuracy: 0.9282 - val_loss: 1.4193 - val_accuracy: 0.6512\n",
            "Epoch 85/100\n",
            "303/303 [==============================] - 16s 54ms/step - loss: 0.2041 - accuracy: 0.9346 - val_loss: 1.3580 - val_accuracy: 0.6570\n",
            "Epoch 86/100\n",
            "303/303 [==============================] - 16s 54ms/step - loss: 0.2150 - accuracy: 0.9318 - val_loss: 1.3579 - val_accuracy: 0.6506\n",
            "Epoch 87/100\n",
            "303/303 [==============================] - 16s 54ms/step - loss: 0.2105 - accuracy: 0.9345 - val_loss: 1.4253 - val_accuracy: 0.6553\n",
            "Epoch 88/100\n",
            "303/303 [==============================] - 16s 54ms/step - loss: 0.2120 - accuracy: 0.9318 - val_loss: 1.3351 - val_accuracy: 0.6617\n",
            "Epoch 89/100\n",
            "303/303 [==============================] - 16s 54ms/step - loss: 0.2095 - accuracy: 0.9342 - val_loss: 1.3644 - val_accuracy: 0.6542\n",
            "Epoch 90/100\n",
            "303/303 [==============================] - 16s 54ms/step - loss: 0.2048 - accuracy: 0.9335 - val_loss: 1.3185 - val_accuracy: 0.6517\n",
            "Epoch 91/100\n",
            "303/303 [==============================] - 16s 54ms/step - loss: 0.2092 - accuracy: 0.9342 - val_loss: 1.3568 - val_accuracy: 0.6461\n",
            "Epoch 92/100\n",
            "303/303 [==============================] - 16s 54ms/step - loss: 0.2042 - accuracy: 0.9366 - val_loss: 1.3057 - val_accuracy: 0.6461\n",
            "Epoch 93/100\n",
            "303/303 [==============================] - 16s 54ms/step - loss: 0.1984 - accuracy: 0.9377 - val_loss: 1.3041 - val_accuracy: 0.6545\n",
            "Epoch 94/100\n",
            "303/303 [==============================] - 16s 54ms/step - loss: 0.1825 - accuracy: 0.9457 - val_loss: 1.3384 - val_accuracy: 0.6475\n",
            "Epoch 95/100\n",
            "303/303 [==============================] - 16s 54ms/step - loss: 0.1899 - accuracy: 0.9390 - val_loss: 1.3698 - val_accuracy: 0.6595\n",
            "Epoch 96/100\n",
            "303/303 [==============================] - 16s 54ms/step - loss: 0.1965 - accuracy: 0.9368 - val_loss: 1.4885 - val_accuracy: 0.6361\n",
            "Epoch 97/100\n",
            "303/303 [==============================] - 16s 54ms/step - loss: 0.1951 - accuracy: 0.9376 - val_loss: 1.5356 - val_accuracy: 0.6503\n",
            "Epoch 98/100\n",
            "303/303 [==============================] - 16s 54ms/step - loss: 0.1889 - accuracy: 0.9405 - val_loss: 1.3496 - val_accuracy: 0.6537\n",
            "Epoch 99/100\n",
            "303/303 [==============================] - 16s 54ms/step - loss: 0.1860 - accuracy: 0.9413 - val_loss: 1.3581 - val_accuracy: 0.6620\n",
            "Epoch 100/100\n",
            "303/303 [==============================] - 16s 54ms/step - loss: 0.1925 - accuracy: 0.9382 - val_loss: 1.5684 - val_accuracy: 0.6500\n"
          ],
          "name": "stdout"
        }
      ]
    },
    {
      "cell_type": "code",
      "metadata": {
        "colab": {
          "base_uri": "https://localhost:8080/"
        },
        "id": "ml5xf6pVfTEj",
        "outputId": "ce5593e0-dfa7-42c5-de02-418d510a26dc"
      },
      "source": [
        "my_model.evaluate(fer_x_test,fer_y_test)"
      ],
      "execution_count": null,
      "outputs": [
        {
          "output_type": "stream",
          "text": [
            "113/113 [==============================] - 1s 6ms/step - loss: 1.4544 - accuracy: 0.6659\n"
          ],
          "name": "stdout"
        },
        {
          "output_type": "execute_result",
          "data": {
            "text/plain": [
              "[1.4544098377227783, 0.6659236550331116]"
            ]
          },
          "metadata": {
            "tags": []
          },
          "execution_count": 82
        }
      ]
    },
    {
      "cell_type": "code",
      "metadata": {
        "id": "XLxU0AvWfZPA"
      },
      "source": [
        "my_model.save('/content/GDrive/My Drive/FER_aug_my_model.h5')"
      ],
      "execution_count": null,
      "outputs": []
    },
    {
      "cell_type": "code",
      "metadata": {
        "id": "V6_R80Qzm-Ce"
      },
      "source": [
        "my_model.save_weights('/content/GDrive/My Drive/FER_aug_my_model_weights.h5')"
      ],
      "execution_count": null,
      "outputs": []
    },
    {
      "cell_type": "markdown",
      "metadata": {
        "id": "gME3tODYoXP3"
      },
      "source": [
        "Ensemble Average"
      ]
    },
    {
      "cell_type": "code",
      "metadata": {
        "id": "pflQt0DToa0c"
      },
      "source": [
        "from keras.layers import Input\r\n",
        "models = [vgg_model, my_model]\r\n",
        "model_input = Input(shape=(48, 48, 3))"
      ],
      "execution_count": null,
      "outputs": []
    },
    {
      "cell_type": "code",
      "metadata": {
        "id": "XImSXgMjo-Z-"
      },
      "source": [
        "def ensemble(models, model_input):\r\n",
        "    \r\n",
        "    ens_models=[model(model_input) for model in models] \r\n",
        "    yAvg=layers.average(ens_models) \r\n",
        "    modelEns = Model(inputs=model_input, outputs=yAvg,name='ensemble')\r\n",
        "    return modelEns\r\n",
        "ensemble_model = ensemble(models, model_input)"
      ],
      "execution_count": null,
      "outputs": []
    },
    {
      "cell_type": "code",
      "metadata": {
        "colab": {
          "base_uri": "https://localhost:8080/"
        },
        "id": "S_dNpA9EpjEt",
        "outputId": "55057848-f5b4-4258-9c32-7389dafd068f"
      },
      "source": [
        "ensemble_model.summary()"
      ],
      "execution_count": null,
      "outputs": [
        {
          "output_type": "stream",
          "text": [
            "Model: \"ensemble\"\n",
            "__________________________________________________________________________________________________\n",
            "Layer (type)                    Output Shape         Param #     Connected to                     \n",
            "==================================================================================================\n",
            "input_5 (InputLayer)            [(None, 48, 48, 3)]  0                                            \n",
            "__________________________________________________________________________________________________\n",
            "model_3 (Functional)            (None, 7)            15150279    input_5[0][0]                    \n",
            "__________________________________________________________________________________________________\n",
            "sequential_1 (Sequential)       (None, 7)            6017095     input_5[0][0]                    \n",
            "__________________________________________________________________________________________________\n",
            "average (Average)               (None, 7)            0           model_3[0][0]                    \n",
            "                                                                 sequential_1[0][0]               \n",
            "==================================================================================================\n",
            "Total params: 21,167,374\n",
            "Trainable params: 19,430,222\n",
            "Non-trainable params: 1,737,152\n",
            "__________________________________________________________________________________________________\n"
          ],
          "name": "stdout"
        }
      ]
    },
    {
      "cell_type": "code",
      "metadata": {
        "id": "ikVxj-yfpp6b"
      },
      "source": [
        "ensemble_model.compile(loss='categorical_crossentropy',\r\n",
        "              optimizer=Adamax(),\r\n",
        "              metrics=['accuracy'])"
      ],
      "execution_count": null,
      "outputs": []
    },
    {
      "cell_type": "code",
      "metadata": {
        "colab": {
          "base_uri": "https://localhost:8080/"
        },
        "id": "0NZIMdRxCHuM",
        "outputId": "9227f251-b2bf-4a7e-f08e-70893767e472"
      },
      "source": [
        "ensemble_model.evaluate_generator(test_generator)"
      ],
      "execution_count": null,
      "outputs": [
        {
          "output_type": "stream",
          "text": [
            "/usr/local/lib/python3.6/dist-packages/tensorflow/python/keras/engine/training.py:1877: UserWarning: `Model.evaluate_generator` is deprecated and will be removed in a future version. Please use `Model.evaluate`, which supports generators.\n",
            "  warnings.warn('`Model.evaluate_generator` is deprecated and '\n"
          ],
          "name": "stderr"
        },
        {
          "output_type": "execute_result",
          "data": {
            "text/plain": [
              "[0.04811982437968254, 0.9934187531471252]"
            ]
          },
          "metadata": {
            "tags": []
          },
          "execution_count": 38
        }
      ]
    },
    {
      "cell_type": "code",
      "metadata": {
        "colab": {
          "base_uri": "https://localhost:8080/"
        },
        "id": "tvZakQEEptUV",
        "outputId": "b80d26ce-5f0e-4442-930c-7586d540005b"
      },
      "source": [
        "ensemble_model.evaluate(fer_x_test, fer_y_test)"
      ],
      "execution_count": null,
      "outputs": [
        {
          "output_type": "stream",
          "text": [
            "113/113 [==============================] - 2s 15ms/step - loss: 1.2508 - accuracy: 0.6840\n"
          ],
          "name": "stdout"
        },
        {
          "output_type": "execute_result",
          "data": {
            "text/plain": [
              "[1.2081536054611206, 0.6787406206130981]"
            ]
          },
          "metadata": {
            "tags": []
          },
          "execution_count": 102
        }
      ]
    },
    {
      "cell_type": "code",
      "metadata": {
        "id": "uqKLgjwypzVv"
      },
      "source": [
        "ensemble_model.save('/content/GDrive/My Drive/fer_ensmodel.h5')\r\n",
        "ensemble_model.save_weights('/content/GDrive/My Drive/fer_ensmodel_weights.h5')"
      ],
      "execution_count": null,
      "outputs": []
    },
    {
      "cell_type": "code",
      "metadata": {
        "id": "erTLhnQGfZ69"
      },
      "source": [
        "#not used   \r\n",
        "image=cv2.imread(\"/content/surprise.png\")\r\n",
        "plt.imshow(image)\r\n",
        "gray=cv2.cvtColor(image,cv2.COLOR_BGR2GRAY)\r\n",
        "face_cascade = cv2.CascadeClassifier('/content/GDrive/My Drive/FER-images/Haar/haarcascade_frontalface_default.xml')\r\n",
        "eye_cascade = cv2.CascadeClassifier('/content/GDrive/My Drive/FER-images/Haar/haarcascade_eye.xml')\r\n",
        "faces=face_cascade.detectMultiScale(gray,1.3,5)\r\n",
        "for (x,y,w,h) in faces:\r\n",
        "  face_crop=gray[y:y+h,x:x+w]\r\n",
        "  resized=cv2.resize(face_crop,(197,197),interpolation=cv2.INTER_LINEAR)\r\n",
        "  final=resized/255.0\r\n",
        "  cv2.imwrite(\"/content/test.jpg\",final*255)\r\n",
        "  my_image=cv2.imread(\"/content/test.jpg\")\r\n",
        "  final=my_image/255;\r\n",
        "  final=final.reshape(1,197,197,3)\r\n",
        "  print(final.shape)\r\n",
        "  prediction=loaded_model.predict(final)\r\n",
        "  print(prediction)\r\n",
        "  high_prob=max(prediction[0])\r\n",
        "  result = prediction.argmax()\r\n",
        "  print(max(prediction[0]))\r\n",
        "  print(result)\r\n",
        "  print(emotions[result])\r\n",
        "  #return prediction"
      ],
      "execution_count": null,
      "outputs": []
    },
    {
      "cell_type": "markdown",
      "metadata": {
        "id": "mcXE0R6G18Yj"
      },
      "source": [
        "Graphs and confusion matrix"
      ]
    },
    {
      "cell_type": "code",
      "metadata": {
        "colab": {
          "base_uri": "https://localhost:8080/",
          "height": 313
        },
        "id": "nRMeNwDPDc9Y",
        "outputId": "b5629979-e651-4561-d209-0c9a4786bfb9"
      },
      "source": [
        "import matplotlib.pyplot as plt\r\n",
        "# list all data in history\r\n",
        "print(history.history.keys())\r\n",
        "# summarize history for accuracy\r\n",
        "plt.plot(history.history['accuracy'])\r\n",
        "plt.plot(history.history['loss'],'r')\r\n",
        "plt.title('model accuracy and loss')\r\n",
        "plt.ylabel('accuracy-loss')\r\n",
        "plt.xlabel('epoch')\r\n",
        "plt.legend(['train acc','train loss'], loc='upper left')\r\n",
        "plt.show()"
      ],
      "execution_count": null,
      "outputs": [
        {
          "output_type": "stream",
          "text": [
            "dict_keys(['loss', 'accuracy', 'val_loss', 'val_accuracy'])\n"
          ],
          "name": "stdout"
        },
        {
          "output_type": "display_data",
          "data": {
            "image/png": "[encoded data removed]",
            "text/plain": [
              "<Figure size 432x288 with 1 Axes>"
            ]
          },
          "metadata": {
            "tags": [],
            "needs_background": "light"
          }
        }
      ]
    },
    {
      "cell_type": "code",
      "metadata": {
        "colab": {
          "base_uri": "https://localhost:8080/",
          "height": 313
        },
        "id": "Pef1rvYx6RSP",
        "outputId": "66a53f0e-c5c5-467a-db25-26c53ff13f0b"
      },
      "source": [
        "import matplotlib.pyplot as plt\r\n",
        "# list all data in history\r\n",
        "print(history1.history.keys())\r\n",
        "# summarize history for accuracy\r\n",
        "plt.plot(history1.history['accuracy'])\r\n",
        "plt.plot(history1.history['loss'],'r')\r\n",
        "plt.title('model accuracy and loss')\r\n",
        "plt.ylabel('accuracy-loss')\r\n",
        "plt.xlabel('epoch')\r\n",
        "plt.legend(['train acc','train loss'], loc='upper left')\r\n",
        "plt.show()"
      ],
      "execution_count": null,
      "outputs": [
        {
          "output_type": "stream",
          "text": [
            "dict_keys(['loss', 'accuracy', 'val_loss', 'val_accuracy'])\n"
          ],
          "name": "stdout"
        },
        {
          "output_type": "display_data",
          "data": {
            "image/png": "[encoded data removed]",
            "text/plain": [
              "<Figure size 432x288 with 1 Axes>"
            ]
          },
          "metadata": {
            "tags": [],
            "needs_background": "light"
          }
        }
      ]
    },
    {
      "cell_type": "code",
      "metadata": {
        "colab": {
          "base_uri": "https://localhost:8080/",
          "height": 313
        },
        "id": "pAxlnG6acyLa",
        "outputId": "8bb268b0-d7fa-4110-a0e4-c3f5fc507d8e"
      },
      "source": [
        "import matplotlib.pyplot as plt\r\n",
        "# list all data in history\r\n",
        "print(my_history.history.keys())\r\n",
        "# summarize history for accuracy\r\n",
        "plt.plot(my_history.history['accuracy'])\r\n",
        "plt.plot(my_history.history['loss'],'r')\r\n",
        "plt.title('model accuracy and loss')\r\n",
        "plt.ylabel('accuracy-loss')\r\n",
        "plt.xlabel('epoch')\r\n",
        "plt.legend(['train acc','train loss'], loc='upper left')\r\n",
        "plt.show()"
      ],
      "execution_count": null,
      "outputs": [
        {
          "output_type": "stream",
          "text": [
            "dict_keys(['loss', 'accuracy', 'val_loss', 'val_accuracy'])\n"
          ],
          "name": "stdout"
        },
        {
          "output_type": "display_data",
          "data": {
            "image/png": "[encoded data removed]",
            "text/plain": [
              "<Figure size 432x288 with 1 Axes>"
            ]
          },
          "metadata": {
            "tags": [],
            "needs_background": "light"
          }
        }
      ]
    },
    {
      "cell_type": "code",
      "metadata": {
        "colab": {
          "base_uri": "https://localhost:8080/",
          "height": 313
        },
        "id": "fAF-RDs8iS7B",
        "outputId": "98393330-f830-4451-f0ec-9e9beb068ae1"
      },
      "source": [
        "import matplotlib.pyplot as plt\r\n",
        "# list all data in history\r\n",
        "print(my_history1.history.keys())\r\n",
        "# summarize history for accuracy\r\n",
        "plt.plot(my_history1.history['accuracy'])\r\n",
        "plt.plot(my_history1.history['loss'],'r')\r\n",
        "plt.title('model accuracy and loss')\r\n",
        "plt.ylabel('accuracy-loss')\r\n",
        "plt.xlabel('epoch')\r\n",
        "plt.legend(['train acc','train loss'], loc='upper left')\r\n",
        "plt.show()"
      ],
      "execution_count": null,
      "outputs": [
        {
          "output_type": "stream",
          "text": [
            "dict_keys(['loss', 'accuracy', 'val_loss', 'val_accuracy'])\n"
          ],
          "name": "stdout"
        },
        {
          "output_type": "display_data",
          "data": {
            "image/png": "[encoded data removed]",
            "text/plain": [
              "<Figure size 432x288 with 1 Axes>"
            ]
          },
          "metadata": {
            "tags": [],
            "needs_background": "light"
          }
        }
      ]
    },
    {
      "cell_type": "code",
      "metadata": {
        "id": "SGiTCimtE2gj"
      },
      "source": [
        "y_pred_probs = vgg_model.predict(fer_x_test)\r\n",
        "y_pred = y_pred_probs.argmax(axis=1)\r\n",
        "y_true = fer_y_test.argmax(axis=1)"
      ],
      "execution_count": null,
      "outputs": []
    },
    {
      "cell_type": "code",
      "metadata": {
        "colab": {
          "base_uri": "https://localhost:8080/",
          "height": 399
        },
        "id": "ooX0HiLtEgyV",
        "outputId": "f963d9ff-7fbc-4c8b-b3d5-b0903d50bb73"
      },
      "source": [
        "from sklearn.metrics import confusion_matrix\r\n",
        "from seaborn import heatmap\r\n",
        "\r\n",
        "emotions = {0:'Angry', 1:'Disgust', 2:'Fear', 3:'Happy', 4:'Sad', 5:'Surprise', 6:'Neutral'}\r\n",
        "\r\n",
        "cmat_df_test=pd.DataFrame(\r\n",
        "  confusion_matrix(y_true, y_pred, normalize='true').round(2),\r\n",
        "  index=emotions.values(), \r\n",
        "  columns=emotions.values()\r\n",
        "  )\r\n",
        "\r\n",
        "plt.figure(figsize=(5,5))\r\n",
        "heatmap(cmat_df_test,annot=True,cmap=plt.cm.Blues)\r\n",
        "plt.tight_layout()\r\n",
        "plt.title('Confusion Matrix on FER Test Set')\r\n",
        "plt.ylabel('True label')\r\n",
        "plt.xlabel('Predicted label')\r\n",
        "plt.show()"
      ],
      "execution_count": null,
      "outputs": [
        {
          "output_type": "display_data",
          "data": {
            "image/png": "[encoded data removed]",
            "text/plain": [
              "<Figure size 360x360 with 2 Axes>"
            ]
          },
          "metadata": {
            "tags": [],
            "needs_background": "light"
          }
        }
      ]
    },
    {
      "cell_type": "code",
      "metadata": {
        "id": "J22s0dIzFJ2U"
      },
      "source": [
        "y_pred_probs = my_model.predict(fer_x_test)\r\n",
        "y_pred = y_pred_probs.argmax(axis=1)\r\n",
        "y_true = fer_y_test.argmax(axis=1)"
      ],
      "execution_count": null,
      "outputs": []
    },
    {
      "cell_type": "code",
      "metadata": {
        "colab": {
          "base_uri": "https://localhost:8080/",
          "height": 399
        },
        "id": "Hk3k_vKDFVT-",
        "outputId": "b8ccb2bd-7ac2-4d5a-f5bf-3e7a1549a56d"
      },
      "source": [
        "from sklearn.metrics import confusion_matrix\r\n",
        "from seaborn import heatmap\r\n",
        "\r\n",
        "emotions = {0:'Angry', 1:'Disgust', 2:'Fear', 3:'Happy', 4:'Sad', 5:'Surprise', 6:'Neutral'}\r\n",
        "\r\n",
        "cmat_df_test=pd.DataFrame(\r\n",
        "  confusion_matrix(y_true, y_pred, normalize='true').round(2),\r\n",
        "  index=emotions.values(), \r\n",
        "  columns=emotions.values()\r\n",
        "  )\r\n",
        "\r\n",
        "plt.figure(figsize=(5,5))\r\n",
        "heatmap(cmat_df_test,annot=True,cmap=plt.cm.Blues)\r\n",
        "plt.tight_layout()\r\n",
        "plt.title('Confusion Matrix on FER Test Set')\r\n",
        "plt.ylabel('True label')\r\n",
        "plt.xlabel('Predicted label')\r\n",
        "plt.show()"
      ],
      "execution_count": null,
      "outputs": [
        {
          "output_type": "display_data",
          "data": {
            "image/png": "[encoded data removed]",
            "text/plain": [
              "<Figure size 360x360 with 2 Axes>"
            ]
          },
          "metadata": {
            "tags": [],
            "needs_background": "light"
          }
        }
      ]
    },
    {
      "cell_type": "code",
      "metadata": {
        "id": "7vIx6-t4Fbjw"
      },
      "source": [
        "y_pred_probs = ensemble_model.predict(fer_x_test)\r\n",
        "y_pred = y_pred_probs.argmax(axis=1)\r\n",
        "y_true = fer_y_test.argmax(axis=1)"
      ],
      "execution_count": null,
      "outputs": []
    },
    {
      "cell_type": "code",
      "metadata": {
        "colab": {
          "base_uri": "https://localhost:8080/",
          "height": 399
        },
        "id": "Ea0Uin_XFnMH",
        "outputId": "9daa2dcd-c2fd-45bf-e342-bc26043c46cc"
      },
      "source": [
        "from sklearn.metrics import confusion_matrix\r\n",
        "from seaborn import heatmap\r\n",
        "\r\n",
        "emotions = {0:'Angry', 1:'Disgust', 2:'Fear', 3:'Happy', 4:'Sad', 5:'Surprise', 6:'Neutral'}\r\n",
        "\r\n",
        "cmat_df_test=pd.DataFrame(\r\n",
        "  confusion_matrix(y_true, y_pred, normalize='true').round(2),\r\n",
        "  index=emotions.values(), \r\n",
        "  columns=emotions.values()\r\n",
        "  )\r\n",
        "\r\n",
        "plt.figure(figsize=(5,5))\r\n",
        "heatmap(cmat_df_test,annot=True,cmap=plt.cm.Blues)\r\n",
        "plt.tight_layout()\r\n",
        "plt.title('Confusion Matrix on FER Test Set')\r\n",
        "plt.ylabel('True label')\r\n",
        "plt.xlabel('Predicted label')\r\n",
        "plt.show()"
      ],
      "execution_count": null,
      "outputs": [
        {
          "output_type": "display_data",
          "data": {
            "image/png": "[encoded data removed]",
            "text/plain": [
              "<Figure size 360x360 with 2 Axes>"
            ]
          },
          "metadata": {
            "tags": [],
            "needs_background": "light"
          }
        }
      ]
    },
    {
      "cell_type": "code",
      "metadata": {
        "id": "CFbBlzKx5aIY"
      },
      "source": [
        "def get_datagen(dataset):\r\n",
        "    return ImageDataGenerator().flow_from_directory(\r\n",
        "              dataset,\r\n",
        "              target_size=(48,48),\r\n",
        "              color_mode='rgb',\r\n",
        "              shuffle = True,\r\n",
        "              class_mode='categorical',\r\n",
        "              batch_size=32)"
      ],
      "execution_count": null,
      "outputs": []
    },
    {
      "cell_type": "code",
      "metadata": {
        "colab": {
          "base_uri": "https://localhost:8080/"
        },
        "id": "eTw4RQcs70fH",
        "outputId": "d240d4e4-998c-47ee-bfae-37ebfd9677b0"
      },
      "source": [
        "from skimage import io, transform\r\n",
        "\r\n",
        "X_test_gen    = get_datagen('/content/animated_test')\r\n",
        "\r\n",
        "X_test = np.zeros((len(X_test_gen.filepaths), 48, 48, 3))\r\n",
        "Y_test = np.zeros((len(X_test_gen.filepaths), 7))\r\n",
        "for i in range(0,len(X_test_gen.filepaths)):\r\n",
        "  x = io.imread(X_test_gen.filepaths[i], as_gray=True)\r\n",
        "  X_test[i,:] = transform.resize(x, (48,48,3))\r\n",
        "  Y_test[i,X_test_gen.classes[i]] = 1"
      ],
      "execution_count": null,
      "outputs": [
        {
          "output_type": "stream",
          "text": [
            "Found 8661 images belonging to 7 classes.\n"
          ],
          "name": "stdout"
        }
      ]
    },
    {
      "cell_type": "code",
      "metadata": {
        "id": "C4sE0I-T9N3H"
      },
      "source": [
        "y_pred_probs = vgg_model.predict(X_test)\r\n",
        "y_pred = y_pred_probs.argmax(axis=1)\r\n",
        "y_true = Y_test.argmax(axis=1)"
      ],
      "execution_count": null,
      "outputs": []
    },
    {
      "cell_type": "code",
      "metadata": {
        "colab": {
          "base_uri": "https://localhost:8080/",
          "height": 395
        },
        "id": "_b-a_mLZ9Te9",
        "outputId": "d343117e-6d97-402d-836f-6174ac7dedfd"
      },
      "source": [
        "from sklearn.metrics import confusion_matrix\r\n",
        "from seaborn import heatmap\r\n",
        "\r\n",
        "animate_emotions={0:'anger',1:'disgust',2:'fear',3:'joy',4:'sadness',5:'surprise',6:'neutral'}\r\n",
        "\r\n",
        "cmat_df_test=pd.DataFrame(\r\n",
        "  confusion_matrix(y_true, y_pred, normalize='true').round(2),\r\n",
        "  index=animate_emotions.values(), \r\n",
        "  columns=animate_emotions.values()\r\n",
        "  )\r\n",
        "\r\n",
        "plt.figure(figsize=(5,5))\r\n",
        "heatmap(cmat_df_test,annot=True,cmap=plt.cm.Blues)\r\n",
        "plt.tight_layout()\r\n",
        "plt.title('Confusion Matrix on FER Test Set')\r\n",
        "plt.ylabel('True label')\r\n",
        "plt.xlabel('Predicted label')\r\n",
        "plt.show()"
      ],
      "execution_count": null,
      "outputs": [
        {
          "output_type": "display_data",
          "data": {
            "image/png": "[encoded data removed]",
            "text/plain": [
              "<Figure size 360x360 with 2 Axes>"
            ]
          },
          "metadata": {
            "tags": [],
            "needs_background": "light"
          }
        }
      ]
    },
    {
      "cell_type": "code",
      "metadata": {
        "id": "yGZGRJDN8Gcg"
      },
      "source": [
        "y_pred_probs = my_model.predict(X_test)\r\n",
        "y_pred = y_pred_probs.argmax(axis=1)\r\n",
        "y_true = Y_test.argmax(axis=1)"
      ],
      "execution_count": null,
      "outputs": []
    },
    {
      "cell_type": "code",
      "metadata": {
        "colab": {
          "base_uri": "https://localhost:8080/",
          "height": 395
        },
        "id": "6L8tCdLn5gwI",
        "outputId": "023ff503-3c70-4e36-8efd-7cf0de95c9cc"
      },
      "source": [
        "from sklearn.metrics import confusion_matrix\r\n",
        "from seaborn import heatmap\r\n",
        "\r\n",
        "animate_emotions={0:'anger',1:'disgust',2:'fear',3:'joy',4:'sadness',5:'surprise',6:'neutral'}\r\n",
        "\r\n",
        "cmat_df_test=pd.DataFrame(\r\n",
        "  confusion_matrix(y_true, y_pred, normalize='true').round(2),\r\n",
        "  index=animate_emotions.values(), \r\n",
        "  columns=animate_emotions.values()\r\n",
        "  )\r\n",
        "\r\n",
        "plt.figure(figsize=(5,5))\r\n",
        "heatmap(cmat_df_test,annot=True,cmap=plt.cm.Blues)\r\n",
        "plt.tight_layout()\r\n",
        "plt.title('Confusion Matrix on FER Test Set')\r\n",
        "plt.ylabel('True label')\r\n",
        "plt.xlabel('Predicted label')\r\n",
        "plt.show()"
      ],
      "execution_count": null,
      "outputs": [
        {
          "output_type": "display_data",
          "data": {
            "image/png": "[encoded data removed]",
            "text/plain": [
              "<Figure size 360x360 with 2 Axes>"
            ]
          },
          "metadata": {
            "tags": [],
            "needs_background": "light"
          }
        }
      ]
    },
    {
      "cell_type": "code",
      "metadata": {
        "id": "zv_xbW7vaG5j"
      },
      "source": [
        "y_pred_probs = ensemble_model.predict(X_test)\r\n",
        "y_pred = y_pred_probs.argmax(axis=1)\r\n",
        "y_true = Y_test.argmax(axis=1)"
      ],
      "execution_count": null,
      "outputs": []
    },
    {
      "cell_type": "code",
      "metadata": {
        "colab": {
          "base_uri": "https://localhost:8080/",
          "height": 395
        },
        "id": "W3usPix_aa4r",
        "outputId": "442742c8-f628-4666-91e3-9c80435b5fb5"
      },
      "source": [
        "from sklearn.metrics import confusion_matrix\r\n",
        "from seaborn import heatmap\r\n",
        "\r\n",
        "animate_emotions={0:'anger',1:'disgust',2:'fear',3:'joy',4:'sadness',5:'surprise',6:'neutral'}\r\n",
        "\r\n",
        "cmat_df_test=pd.DataFrame(\r\n",
        "  confusion_matrix(y_true, y_pred, normalize='true').round(2),\r\n",
        "  index=animate_emotions.values(), \r\n",
        "  columns=animate_emotions.values()\r\n",
        "  )\r\n",
        "\r\n",
        "plt.figure(figsize=(5,5))\r\n",
        "heatmap(cmat_df_test,annot=True,cmap=plt.cm.Blues)\r\n",
        "plt.tight_layout()\r\n",
        "plt.title('Confusion Matrix on FER Test Set')\r\n",
        "plt.ylabel('True label')\r\n",
        "plt.xlabel('Predicted label')\r\n",
        "plt.show()"
      ],
      "execution_count": null,
      "outputs": [
        {
          "output_type": "display_data",
          "data": {
            "image/png": "[encoded data removed]",
            "text/plain": [
              "<Figure size 360x360 with 2 Axes>"
            ]
          },
          "metadata": {
            "tags": [],
            "needs_background": "light"
          }
        }
      ]
    }
  ]
}